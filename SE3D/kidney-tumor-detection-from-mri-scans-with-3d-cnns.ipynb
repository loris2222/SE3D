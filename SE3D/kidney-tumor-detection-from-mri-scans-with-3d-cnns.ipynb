{
 "cells": [
  {
   "cell_type": "markdown",
   "id": "eccfa7e2",
   "metadata": {
    "papermill": {
     "duration": 0.014246,
     "end_time": "2023-04-21T21:43:47.218325",
     "exception": false,
     "start_time": "2023-04-21T21:43:47.204079",
     "status": "completed"
    },
    "tags": []
   },
   "source": [
    "# Kidney Tumor Detection from MRI Scans with 3D CNNs ✍️\n",
    "\n",
    "![CT Image](https://storage.googleapis.com/kaggle-datasets-images/674071/1185670/0d449dc88ac1318321ae8f7de974f0fa/dataset-cover.jpg?t=2020-05-25-13-21-33)\n",
    "\n",
    "- **Author:** *Mariusz Wiśniewski*\n",
    "- **Date created:** *April 17th, 2023*\n",
    "- **Last modified:** *April 21st, 2023*\n",
    "\n",
    "## Overview\n",
    "\n",
    "In this notebook, we will train a (2+1)D convolutional neural network to predict the presence of brain tumor from volumetric MRI scans. After that, we will see how to generate a class activation heatmap for our 3D image classification model.\n",
    "\n",
    "### Libraries Used\n",
    "\n",
    "- [Tensorflow 🔥](https://www.tensorflow.org)\n",
    "- [NiBabel 🩻](https://nipy.org/nibabel/)\n",
    "- [SciPy 🔬](https://scipy.org)\n",
    "- [OpenCV 🖼️](https://opencv.org)\n",
    "\n",
    "### References\n",
    "\n",
    "- [VoxNet: A 3D Convolutional Neural Network for Real-Time Object Recognition 📃](https://www.ri.cmu.edu/pub_files/2015/9/voxnet_maturana_scherer_iros15.pdf)\n",
    "- [FusionNet: 3D Object Classification Using MultipleData Representations 📃](http://3ddl.cs.princeton.edu/2016/papers/Hegde_Zadeh.pdf)\n",
    "- [Uniformizing Techniques to Process CT scans with 3D CNNs for Tuberculosis Prediction 📃](https://arxiv.org/abs/2007.13224)\n",
    "- [Grad-CAM: Visual Explanations from Deep Networks via Gradient-based Localization 📃](https://arxiv.org/abs/1610.02391)\n",
    "- [Learning Deep Features for Discriminative Localization 📃](https://arxiv.org/abs/1512.04150)\n",
    "- [The Multimodal Brain Tumor Image Segmentation Benchmark (BRATS) 📃](https://ieeexplore.ieee.org/document/6975210)\n",
    "- [Advancing The Cancer Genome Atlas glioma MRI collections with expert segmentation labels and radiomic features 📃](https://www.nature.com/articles/sdata2017117)\n",
    "- [Identifying the Best Machine Learning Algorithms for Brain Tumor Segmentation, Progression Assessment, and Overall Survival Prediction in the BRATS Challenge 📃](https://arxiv.org/abs/1811.02629)\n",
    "- [3D image classification from CT scans 📝](https://keras.io/examples/vision/3D_image_classification/)\n",
    "- [Grad-CAM class activation visualization 📝](https://keras.io/examples/vision/grad_cam/)\n",
    "- [A Comprehensive Introduction to Different Types of Convolutions in Deep Learning](https://towardsdatascience.com/a-comprehensive-introduction-to-different-types-of-convolutions-in-deep-learning-669281e58215)\n",
    "- [Spine🦴Fracture: EDA🔎 & loading DICOM & 3D browse 📓](https://www.kaggle.com/code/jirkaborovec/spine-fracture-eda-loading-dicom-3d-browse)\n",
    "- [[RSNA_22] Dicom to NumPy 3D 📓](https://www.kaggle.com/code/vmuzhichenko/rsna-22-dicom-to-numpy-3d)"
   ]
  },
  {
   "cell_type": "markdown",
   "id": "264b0093",
   "metadata": {
    "papermill": {
     "duration": 0.012184,
     "end_time": "2023-04-21T21:43:47.242777",
     "exception": false,
     "start_time": "2023-04-21T21:43:47.230593",
     "status": "completed"
    },
    "tags": []
   },
   "source": [
    "# Notebook Setup"
   ]
  },
  {
   "cell_type": "markdown",
   "id": "f0965d7c",
   "metadata": {
    "papermill": {
     "duration": 0.012388,
     "end_time": "2023-04-21T21:43:57.802124",
     "exception": false,
     "start_time": "2023-04-21T21:43:57.789736",
     "status": "completed"
    },
    "tags": []
   },
   "source": [
    "## Import Statements"
   ]
  },
  {
   "cell_type": "code",
   "execution_count": null,
   "id": "748b1f65",
   "metadata": {
    "execution": {
     "iopub.execute_input": "2023-04-21T21:43:57.830613Z",
     "iopub.status.busy": "2023-04-21T21:43:57.828966Z",
     "iopub.status.idle": "2023-04-21T21:44:06.939986Z",
     "shell.execute_reply": "2023-04-21T21:44:06.938828Z"
    },
    "papermill": {
     "duration": 9.128042,
     "end_time": "2023-04-21T21:44:06.942790",
     "exception": false,
     "start_time": "2023-04-21T21:43:57.814748",
     "status": "completed"
    },
    "tags": []
   },
   "outputs": [],
   "source": [
    "import os\n",
    "import random\n",
    "import tempfile\n",
    "from glob import glob\n",
    "\n",
    "os.environ['TF_CPP_MIN_LOG_LEVEL'] = '3' \n",
    "\n",
    "import cv2\n",
    "import matplotlib.pyplot as plt\n",
    "import numpy as np\n",
    "import pandas as pd\n",
    "import seaborn as sn\n",
    "import tensorflow as tf\n",
    "import wandb\n",
    "from dotenv import load_dotenv\n",
    "from ipywidgets import IntSlider, interact\n",
    "from matplotlib import animation, rc\n",
    "from matplotlib.patches import PathPatch, Rectangle\n",
    "from matplotlib.path import Path\n",
    "from volumentations import Flip, Compose\n",
    "from scipy.ndimage import zoom\n",
    "from sklearn.metrics import classification_report, confusion_matrix\n",
    "from sklearn.utils import class_weight\n",
    "from tensorflow.keras import Input, Model\n",
    "from tensorflow.keras.callbacks import EarlyStopping, ModelCheckpoint, ReduceLROnPlateau\n",
    "from tensorflow.keras.layers import (BatchNormalization, Conv3D, Dense,\n",
    "                                     Dropout, GlobalAveragePooling3D,\n",
    "                                     MaxPool3D, Normalization)\n",
    "from tensorflow.keras.optimizers import Adam\n",
    "from wandb.keras import WandbCallback"
   ]
  },
  {
   "attachments": {},
   "cell_type": "markdown",
   "metadata": {},
   "source": [
    "## Loading Environmental Variables"
   ]
  },
  {
   "cell_type": "code",
   "execution_count": null,
   "id": "77ad6032",
   "metadata": {},
   "outputs": [],
   "source": [
    "load_dotenv()"
   ]
  },
  {
   "cell_type": "markdown",
   "id": "93ee1975",
   "metadata": {},
   "source": [
    "## Random Seed for Reproducibility"
   ]
  },
  {
   "cell_type": "code",
   "execution_count": null,
   "id": "4f27826f",
   "metadata": {
    "execution": {
     "iopub.execute_input": "2023-04-21T21:44:06.995107Z",
     "iopub.status.busy": "2023-04-21T21:44:06.994082Z",
     "iopub.status.idle": "2023-04-21T21:44:07.000352Z",
     "shell.execute_reply": "2023-04-21T21:44:06.999467Z"
    },
    "papermill": {
     "duration": 0.022027,
     "end_time": "2023-04-21T21:44:07.002437",
     "exception": false,
     "start_time": "2023-04-21T21:44:06.980410",
     "status": "completed"
    },
    "tags": []
   },
   "outputs": [],
   "source": [
    "seed = 27\n",
    "\n",
    "random.seed(seed)\n",
    "os.environ['PYTHONHASHSEED'] = str(seed)\n",
    "np.random.seed(seed)\n",
    "tf.random.set_seed(seed)\n",
    "tf.compat.v1.set_random_seed(seed)\n",
    "\n",
    "strategy = tf.distribute.MultiWorkerMirroredStrategy()"
   ]
  },
  {
   "cell_type": "markdown",
   "id": "57cc8510",
   "metadata": {
    "papermill": {
     "duration": 0.012102,
     "end_time": "2023-04-21T21:44:07.026965",
     "exception": false,
     "start_time": "2023-04-21T21:44:07.014863",
     "status": "completed"
    },
    "tags": []
   },
   "source": [
    "## Weights & Biases Setup"
   ]
  },
  {
   "cell_type": "code",
   "execution_count": null,
   "id": "3e927289",
   "metadata": {
    "execution": {
     "iopub.execute_input": "2023-04-21T21:44:07.052666Z",
     "iopub.status.busy": "2023-04-21T21:44:07.052391Z",
     "iopub.status.idle": "2023-04-21T21:44:07.056791Z",
     "shell.execute_reply": "2023-04-21T21:44:07.055785Z"
    },
    "papermill": {
     "duration": 0.019577,
     "end_time": "2023-04-21T21:44:07.058858",
     "exception": false,
     "start_time": "2023-04-21T21:44:07.039281",
     "status": "completed"
    },
    "tags": []
   },
   "outputs": [],
   "source": [
    "wandb.login(key=os.environ.get('WANDB_API_KEY'))\n",
    "run = wandb.init(\n",
    "    name='4-mw-3D-CNN-cw-st-resampled-pt-flips',\n",
    "    project=os.environ.get('WANDB_KITS_PROJECT'),\n",
    "    entity=os.environ.get('WANDB_ENTITY'),\n",
    "    id='4-mw-3D-CNN-cw-st-resampled-pt-flips',\n",
    "    # resume=True,\n",
    ")"
   ]
  },
  {
   "cell_type": "markdown",
   "id": "555d48f4",
   "metadata": {
    "papermill": {
     "duration": 0.013691,
     "end_time": "2023-04-21T21:44:07.085243",
     "exception": false,
     "start_time": "2023-04-21T21:44:07.071552",
     "status": "completed"
    },
    "tags": []
   },
   "source": [
    "## Project Configuration"
   ]
  },
  {
   "cell_type": "code",
   "execution_count": null,
   "id": "7b8d09f6",
   "metadata": {
    "execution": {
     "iopub.execute_input": "2023-04-21T21:44:07.110654Z",
     "iopub.status.busy": "2023-04-21T21:44:07.110390Z",
     "iopub.status.idle": "2023-04-21T21:44:07.115154Z",
     "shell.execute_reply": "2023-04-21T21:44:07.114149Z"
    },
    "papermill": {
     "duration": 0.019922,
     "end_time": "2023-04-21T21:44:07.117318",
     "exception": false,
     "start_time": "2023-04-21T21:44:07.097396",
     "status": "completed"
    },
    "tags": []
   },
   "outputs": [],
   "source": [
    "wandb.config = {\n",
    "    'learning_rate': 1e-3,\n",
    "    'min_learning_rate': 1e-7,\n",
    "    'epochs': 500,\n",
    "    'batch_size': 64,\n",
    "    'test_batch_size': 1,\n",
    "    'img_size': 160,\n",
    "    'depth': 80,\n",
    "    'n_classes': 2,\n",
    "    # 'fold': 0,\n",
    "}\n",
    "\n",
    "config = wandb.config"
   ]
  },
  {
   "cell_type": "markdown",
   "id": "545dac86",
   "metadata": {
    "papermill": {
     "duration": 0.012093,
     "end_time": "2023-04-21T21:44:07.141513",
     "exception": false,
     "start_time": "2023-04-21T21:44:07.129420",
     "status": "completed"
    },
    "tags": []
   },
   "source": [
    "# Dataset\n",
    "\n",
    "BraTS2020 is a medical imaging challenge. The goal is to segment the tumor from the brain MRI scans. The dataset is available on [Kaggle](https://www.kaggle.com/datasets/awsaf49/brats2020-training-data).\n",
    "\n",
    "All BraTS multimodal scans are available as NIfTI files (.nii.gz) and describe:\n",
    "\n",
    "- native (**T1**),\n",
    "- post-contrast T1-weighted (**T1Gd**),\n",
    "- T2-weighted (**T2**),\n",
    "- T2 Fluid Attenuated Inversion Recovery (**T2-FLAIR**)\n",
    "\n",
    "volumes, and were acquired with different clinical protocols and various scanners from multiple (n=19) institutions.\n",
    "\n",
    "All the imaging datasets have been segmented manually, by one to four raters, following the same annotation protocol, and their annotations were approved by experienced neuro-radiologists. Annotations comprise:\n",
    "\n",
    "- the necrotic and non-enhancing tumor core (**NCR/NET — label 1**),\n",
    "- the peritumoral edema (**ED — label 2**),\n",
    "- the GD-enhancing tumor (**ET — label 4**),\n",
    " \n",
    "as described both in the [BraTS 2012-2013 TMI paper](https://ieeexplore.ieee.org/document/6975210) and in the [latest BraTS summarizing paper](https://arxiv.org/abs/1811.02629). The provided data are distributed after their pre-processing, i.e., co-registered to the same anatomical template, interpolated to the same resolution ($1 {mm}^3$) and skull-stripped."
   ]
  },
  {
   "cell_type": "markdown",
   "id": "9fb39949",
   "metadata": {
    "papermill": {
     "duration": 0.012082,
     "end_time": "2023-04-21T21:44:07.165916",
     "exception": false,
     "start_time": "2023-04-21T21:44:07.153834",
     "status": "completed"
    },
    "tags": []
   },
   "source": [
    "## Class Distribution"
   ]
  },
  {
   "cell_type": "code",
   "execution_count": null,
   "id": "0202ff90",
   "metadata": {
    "execution": {
     "iopub.execute_input": "2023-04-21T21:44:07.191692Z",
     "iopub.status.busy": "2023-04-21T21:44:07.191154Z",
     "iopub.status.idle": "2023-04-21T21:44:07.215962Z",
     "shell.execute_reply": "2023-04-21T21:44:07.214462Z"
    },
    "papermill": {
     "duration": 0.040092,
     "end_time": "2023-04-21T21:44:07.218192",
     "exception": false,
     "start_time": "2023-04-21T21:44:07.178100",
     "status": "completed"
    },
    "tags": []
   },
   "outputs": [],
   "source": [
    "BASE_PATH = '.'\n",
    "DATA_TYPES = ['vol', 'seg']\n",
    "CLASS_NAMES = ['normal', 'tumor']\n",
    "\n",
    "# MEAN = np.array(0.20801003)\n",
    "# STD = np.array(0.16490023)\n",
    "\n",
    "df = pd.read_csv(f'{BASE_PATH}/metadata.csv')\n",
    "print(df['label'].value_counts())"
   ]
  },
  {
   "cell_type": "code",
   "execution_count": null,
   "id": "498e709d",
   "metadata": {
    "execution": {
     "iopub.execute_input": "2023-04-21T21:44:07.244631Z",
     "iopub.status.busy": "2023-04-21T21:44:07.244363Z",
     "iopub.status.idle": "2023-04-21T21:44:07.259294Z",
     "shell.execute_reply": "2023-04-21T21:44:07.258247Z"
    },
    "papermill": {
     "duration": 0.03071,
     "end_time": "2023-04-21T21:44:07.261322",
     "exception": false,
     "start_time": "2023-04-21T21:44:07.230612",
     "status": "completed"
    },
    "tags": []
   },
   "outputs": [],
   "source": [
    "df.head()"
   ]
  },
  {
   "cell_type": "markdown",
   "id": "a2a7b38f",
   "metadata": {
    "papermill": {
     "duration": 0.012304,
     "end_time": "2023-04-21T21:44:07.286197",
     "exception": false,
     "start_time": "2023-04-21T21:44:07.273893",
     "status": "completed"
    },
    "tags": []
   },
   "source": [
    "## Build Train and Validation Datasets"
   ]
  },
  {
   "cell_type": "code",
   "execution_count": null,
   "id": "bb4f6f5e",
   "metadata": {},
   "outputs": [],
   "source": [
    "# df['path'] = df['path'].apply(lambda x: x.replace('data', 'data_128x64x64'))\n",
    "df['path']"
   ]
  },
  {
   "cell_type": "code",
   "execution_count": null,
   "id": "914ba0ad",
   "metadata": {
    "execution": {
     "iopub.execute_input": "2023-04-21T21:44:07.312488Z",
     "iopub.status.busy": "2023-04-21T21:44:07.312198Z",
     "iopub.status.idle": "2023-04-21T21:44:07.322290Z",
     "shell.execute_reply": "2023-04-21T21:44:07.321278Z"
    },
    "papermill": {
     "duration": 0.02617,
     "end_time": "2023-04-21T21:44:07.324839",
     "exception": false,
     "start_time": "2023-04-21T21:44:07.298669",
     "status": "completed"
    },
    "tags": []
   },
   "outputs": [],
   "source": [
    "labels = np.array(df['label'])\n",
    "paths = np.array([f'{path}volume-patch-{str(patch)}.npz' for path, patch in zip(df['path'], df['patch'])])\n",
    "train_indices = df[df['test'] == 0].index.values.tolist()\n",
    "test_indices = df[df['test'] == 1].index.values.tolist()\n",
    "assert set(train_indices).isdisjoint(test_indices)\n",
    "\n",
    "print(\n",
    "    'Number of samples:\\n'\n",
    "    f'train: {len(train_indices)} ({round(float(len(train_indices)) / float(len(labels)) * 100.0)}% of the dataset)\\n'\n",
    "    f'test: {len(test_indices)} ({round(float(len(test_indices)) / float(len(labels)) * 100.0)}% of the dataset)'\n",
    ")"
   ]
  },
  {
   "cell_type": "markdown",
   "id": "2a22a04d",
   "metadata": {
    "papermill": {
     "duration": 0.012254,
     "end_time": "2023-04-21T21:44:07.349806",
     "exception": false,
     "start_time": "2023-04-21T21:44:07.337552",
     "status": "completed"
    },
    "tags": []
   },
   "source": [
    "# Data Augmentation\n",
    "\n",
    "The CT scans are augmented by randomly flipping the volumes, so that the model does not directly know the correspondence of the brain half and the volume. The data is stored in rank-4 tensors of shape `(samples, height, width, depth, channels)`."
   ]
  },
  {
   "cell_type": "code",
   "execution_count": null,
   "id": "cb34bd44",
   "metadata": {
    "execution": {
     "iopub.execute_input": "2023-04-21T21:44:07.377461Z",
     "iopub.status.busy": "2023-04-21T21:44:07.375973Z",
     "iopub.status.idle": "2023-04-21T21:44:07.381179Z",
     "shell.execute_reply": "2023-04-21T21:44:07.380258Z"
    },
    "papermill": {
     "duration": 0.021022,
     "end_time": "2023-04-21T21:44:07.383318",
     "exception": false,
     "start_time": "2023-04-21T21:44:07.362296",
     "status": "completed"
    },
    "tags": []
   },
   "outputs": [],
   "source": [
    "def get_augmentations():\n",
    "    return Compose([\n",
    "        Flip(1, p=0.5),\n",
    "        Flip(0, p=0.5),\n",
    "        Flip(2, p=0.5),\n",
    "    ], p=1.0)"
   ]
  },
  {
   "cell_type": "markdown",
   "id": "48a9a228",
   "metadata": {
    "papermill": {
     "duration": 0.012691,
     "end_time": "2023-04-21T21:44:07.409321",
     "exception": false,
     "start_time": "2023-04-21T21:44:07.396630",
     "status": "completed"
    },
    "tags": []
   },
   "source": [
    "The training data is passed through an augmentation function that randomly rotates volume at different angles while constructing the train and test data loaders. It should be noted that both the training and testing data have previously been rescaled to have values between 0 and 1."
   ]
  },
  {
   "cell_type": "code",
   "execution_count": null,
   "id": "23c0cf28",
   "metadata": {
    "execution": {
     "iopub.execute_input": "2023-04-21T21:44:07.436280Z",
     "iopub.status.busy": "2023-04-21T21:44:07.435991Z",
     "iopub.status.idle": "2023-04-21T21:44:07.448158Z",
     "shell.execute_reply": "2023-04-21T21:44:07.447118Z"
    },
    "papermill": {
     "duration": 0.027956,
     "end_time": "2023-04-21T21:44:07.450157",
     "exception": false,
     "start_time": "2023-04-21T21:44:07.422201",
     "status": "completed"
    },
    "tags": []
   },
   "outputs": [],
   "source": [
    "class DataGenerator(tf.keras.utils.Sequence):\n",
    "    'Generates data for Keras'\n",
    "\n",
    "    def __init__(self, indices, paths, labels, batch_size=4, dim=(240, 120, 155),\n",
    "                 n_classes=2, shuffle=True, transform=None):\n",
    "        'Initialization'\n",
    "        self.dim = dim\n",
    "        self.batch_size = batch_size\n",
    "        self.paths = paths\n",
    "        self.labels = labels\n",
    "        self.indices = indices\n",
    "        self.n_classes = n_classes\n",
    "        self.shuffle = shuffle\n",
    "        self.transform = transform\n",
    "        self.on_epoch_end()\n",
    "\n",
    "    def __len__(self):\n",
    "        'Denotes the number of batches per epoch'\n",
    "        return int(np.floor(len(self.indices) / self.batch_size))\n",
    "\n",
    "    def __getitem__(self, index):\n",
    "        'Generate one batch of data'\n",
    "        # Generate indexes of the batch\n",
    "        indexes = self.indexes[index*self.batch_size:(index+1)*self.batch_size]\n",
    "        # Find list of IDs\n",
    "        indices_temp = [self.indices[k] for k in indexes]\n",
    "\n",
    "        # Generate data\n",
    "        X, y = self.__data_generation(indices_temp)\n",
    "\n",
    "        return X, y\n",
    "\n",
    "    def on_epoch_end(self):\n",
    "        'Updates indexes after each epoch'\n",
    "        self.indexes = np.arange(len(self.indices))\n",
    "        if self.shuffle:\n",
    "            np.random.shuffle(self.indexes)\n",
    "\n",
    "    def __data_generation(self, indices_temp):\n",
    "        'Generates data containing batch_size samples'\n",
    "        # Initialization\n",
    "        X = np.empty((self.batch_size, *self.dim, len(DATA_TYPES[:-1])))\n",
    "        y = np.empty((self.batch_size), dtype=int)\n",
    "\n",
    "        # Generate data\n",
    "        for i, ID in enumerate(indices_temp):\n",
    "            # Store sample\n",
    "            volume = np.load(self.paths[ID])['data'].astype('float32')\n",
    "            # volume = volume.astype('float32')\n",
    "\n",
    "            if self.transform is not None:\n",
    "                volume = self.transform(**{'image': volume})['image']\n",
    "            X[i,] = np.expand_dims(volume, axis=3)\n",
    "\n",
    "            # # Store class\n",
    "            y[i] = self.labels[ID]\n",
    "\n",
    "        return X, tf.keras.utils.to_categorical(y, num_classes=self.n_classes)"
   ]
  },
  {
   "cell_type": "code",
   "execution_count": null,
   "id": "221f7510",
   "metadata": {
    "execution": {
     "iopub.execute_input": "2023-04-21T21:44:07.477107Z",
     "iopub.status.busy": "2023-04-21T21:44:07.476263Z",
     "iopub.status.idle": "2023-04-21T21:44:07.484079Z",
     "shell.execute_reply": "2023-04-21T21:44:07.483030Z"
    },
    "papermill": {
     "duration": 0.023593,
     "end_time": "2023-04-21T21:44:07.486359",
     "exception": false,
     "start_time": "2023-04-21T21:44:07.462766",
     "status": "completed"
    },
    "tags": []
   },
   "outputs": [],
   "source": [
    "augmentations = get_augmentations()\n",
    "\n",
    "training_generator = DataGenerator(\n",
    "    train_indices,\n",
    "    paths,\n",
    "    labels,\n",
    "    batch_size=config['batch_size'],\n",
    "    dim=(config['img_size'], config['img_size'] // 2, config['depth']),\n",
    "    shuffle=True,\n",
    "    transform=augmentations,\n",
    ")\n",
    "\n",
    "test_generator = DataGenerator(\n",
    "    test_indices,\n",
    "    paths,\n",
    "    labels, \n",
    "    batch_size=config['batch_size'],\n",
    "    dim=(config['img_size'], config['img_size'] // 2, config['depth']),\n",
    "    shuffle=False,\n",
    "    # transform=augmentations,\n",
    ")"
   ]
  },
  {
   "cell_type": "markdown",
   "id": "b31efe63",
   "metadata": {
    "papermill": {
     "duration": 0.012289,
     "end_time": "2023-04-21T21:44:07.511154",
     "exception": false,
     "start_time": "2023-04-21T21:44:07.498865",
     "status": "completed"
    },
    "tags": []
   },
   "source": [
    "## Augmented CT Scan Visualization"
   ]
  },
  {
   "cell_type": "code",
   "execution_count": null,
   "id": "0c38a711",
   "metadata": {
    "execution": {
     "iopub.execute_input": "2023-04-21T21:44:07.538174Z",
     "iopub.status.busy": "2023-04-21T21:44:07.537888Z",
     "iopub.status.idle": "2023-04-21T21:44:07.986322Z",
     "shell.execute_reply": "2023-04-21T21:44:07.985292Z"
    },
    "papermill": {
     "duration": 0.464751,
     "end_time": "2023-04-21T21:44:07.988575",
     "exception": false,
     "start_time": "2023-04-21T21:44:07.523824",
     "status": "completed"
    },
    "tags": []
   },
   "outputs": [],
   "source": [
    "images, _ = training_generator.__getitem__(0)\n",
    "image = images[0]\n",
    "\n",
    "print('Dimensions of the CT scan are:', image.shape)\n",
    "plt.imshow(np.squeeze(image[:, :, 32]), cmap='bone')"
   ]
  },
  {
   "cell_type": "markdown",
   "id": "21d89606",
   "metadata": {
    "papermill": {
     "duration": 0.013723,
     "end_time": "2023-04-21T21:44:08.016760",
     "exception": false,
     "start_time": "2023-04-21T21:44:08.003037",
     "status": "completed"
    },
    "tags": []
   },
   "source": [
    "## CT Slice Montage\n",
    "\n",
    "Since a CT scan comprises many slices, let us visualize a montage of the them."
   ]
  },
  {
   "cell_type": "code",
   "execution_count": null,
   "id": "6023aca2",
   "metadata": {
    "execution": {
     "iopub.execute_input": "2023-04-21T21:44:08.045277Z",
     "iopub.status.busy": "2023-04-21T21:44:08.044947Z",
     "iopub.status.idle": "2023-04-21T21:44:09.296231Z",
     "shell.execute_reply": "2023-04-21T21:44:09.295322Z"
    },
    "papermill": {
     "duration": 1.276775,
     "end_time": "2023-04-21T21:44:09.306850",
     "exception": false,
     "start_time": "2023-04-21T21:44:08.030075",
     "status": "completed"
    },
    "tags": []
   },
   "outputs": [],
   "source": [
    "def plot_slices(num_rows, num_columns, width, height, data):\n",
    "    \"\"\"Plot a montage of CT slices\"\"\"\n",
    "    data = np.rot90(np.array(data))\n",
    "    data = np.transpose(data)\n",
    "    data = np.reshape(data, (num_rows, num_columns, width, height))\n",
    "    rows_data, columns_data = data.shape[0], data.shape[1]\n",
    "    heights = [slc[0].shape[0] for slc in data]\n",
    "    widths = [slc.shape[1] for slc in data[0]]\n",
    "    fig_width = 12.0\n",
    "    fig_height = fig_width * sum(heights) / sum(widths)\n",
    "    _, axarr = plt.subplots(\n",
    "        rows_data,\n",
    "        columns_data,\n",
    "        figsize=(fig_width, fig_height),\n",
    "        gridspec_kw={'height_ratios': heights},\n",
    "    )\n",
    "    for i in range(rows_data):\n",
    "        for j in range(columns_data):\n",
    "            axarr[i, j].imshow(data[i][j], cmap='bone')\n",
    "            axarr[i, j].axis('off')\n",
    "    plt.subplots_adjust(wspace=0, hspace=0, left=0, right=1, bottom=0, top=1)\n",
    "    plt.show()\n",
    "\n",
    "\n",
    "# Visualize montage of slices.\n",
    "# 4 rows and 10 columns for 40 slices of the CT scan.\n",
    "plot_slices(4, 10, config['img_size'], config['img_size'] // 2, image[:, :, 12:52])"
   ]
  },
  {
   "cell_type": "markdown",
   "id": "d9076760",
   "metadata": {
    "papermill": {
     "duration": 0.026769,
     "end_time": "2023-04-21T21:44:09.361902",
     "exception": false,
     "start_time": "2023-04-21T21:44:09.335133",
     "status": "completed"
    },
    "tags": []
   },
   "source": [
    "# 3D Convolutional Neural Network\n",
    "\n",
    "## 3D Convolutions\n",
    "\n",
    "RGB images that consist of 3 channels are typically processed using 2D CNNs. A 3D CNN is essentially the 3D equivalent: it takes as input a 3D volume or a sequence of 2D frames (e.g. slices in a CT scan). 3D CNNs are a powerful model for learning representations for volumetric data. In contrary to the 2D convolutions, here in 3D convolution, the filter depth is smaller than the input layer depth (*kernel size < channel size*). As a result, the 3D filter has the ability to move in all three directions (height, width, channel of the image). At each position, the element-wise multiplication and addition provide one number. Since the filter slides through a 3D space, the output numbers are arranged in a 3D space as well. The output is then a 3D data.\n",
    "\n",
    "<center>\n",
    "<figure>\n",
    "    <img src='https://i.imgur.com/TYMETaw.gif' alt='3D Convolution' style='width: 680px;'/>\n",
    "    <figcaption>Visualization of a 3D convolution of <i>5x5x5</i> volume with <i>3x3x3</i> kernel, no padding, no strides. It results in a <i>3x3x3</i> output volume.</figcaption>\n",
    "</figure>\n",
    "</center>\n",
    "    \n",
    "Similarly to 2D convolutions, which encode spatial relationships of objects in a 2D domain, 3D convolutions can describe the spatial relationships of objects in the 3D space.\n",
    "\n",
    "## (2+1)D Convolutions\n",
    "\n",
    "Instead of a single 3D convolution to process the time and space dimensions, we will use a (2+1)D convolution, which processes the space and time (or depth) dimensions separately. The figure below shows the factored spatial and temporal convolutions of a (2+1)D convolution.\n",
    "\n",
    "<center>\n",
    "    <figure>\n",
    "        <img src='https://www.tensorflow.org/images/tutorials/video/2plus1CNN.png', alt='(2+1)D Convolution' style='width: 680px;'/>\n",
    "    <figcaption>Visualization of a (2+1)D convolution of <i>6x6x8</i> volume with <i>3x3x3</i> kernel, no padding, no strides, that is separated into <i>1x3x3</i> spatial kernel and <i>3x1x1</i> temporal kernel. See the <a href='https://www.tensorflow.org/tutorials/video/video_classification'> source</a>.</figcaption>\n",
    "</figure>\n",
    "</center>\n",
    "\n",
    "The main advantage of this approach is that it reduces the number of parameters. In the (2+1)D convolution the depthwise convolution takes in data of the shape `(1, width, height)`, while the pointwise convolution takes in data of the shape `(depth, 1, 1)`. For example, a (2+1)D convolution with kernel size `(3x3x3)` would need weight matrices of size `(9 * channels**2) + (3 * channels**2)`, which is fewer than half as many as the full 3D convolution.\n",
    "\n",
    "## Residual Connections\n",
    "\n",
    "A *ResNet* model is constructed from a sequence of residual blocks. There are two branches in a residual block. The main branch performs the computation, but it is farily difficult for the gradients to flow through. The residual branch skips the main computation and typically merely adds the input to the main branch's result. Gradients readily flow via this branch. As a result, there will be an easy path from the loss function to any of the residual block's main branches. This overcomes the problem of vanishing gradients.\n",
    "\n",
    "<center>\n",
    "    <figure>\n",
    "        <img src='https://miro.medium.com/max/1140/1*D0F3UitQ2l5Q0Ak-tjEdJg.webp', alt='Residual Connection' style='width: 480px;'/>\n",
    "    <figcaption>Visualization of a residual connection. See the <a href='https://arxiv.org/abs/1512.03385'> source</a>.</figcaption>\n",
    "</figure>\n",
    "</center>\n",
    "\n",
    "## About the Model\n",
    "\n",
    "To make the model easier to understand, we structure it into residual blocks (see the [paper](https://arxiv.org/abs/1512.03385)). The architecture of the (2+1)D CNN used in this example is based on [A Closer Look at Spatiotemporal Convolutions for Action Recognition](https://ieeexplore.ieee.org/document/8578773) paper.\n",
    "\n",
    "In contrast to CAM (see the [paper](https://arxiv.org/abs/1512.04150)), which requires performing global average pooling over convolutional maps immediately prior to prediction (convolutional feature maps -> global average pooling -> softmax layer), Grad-CAM does not require *any* modifications in the network architecture."
   ]
  },
  {
   "cell_type": "code",
   "execution_count": null,
   "id": "ae4efe01",
   "metadata": {},
   "outputs": [],
   "source": [
    "from tensorflow.keras.models import load_model\n",
    "from miscnn.neural_network.metrics import dice_soft, dice_crossentropy, tversky_loss\n",
    "\n",
    "\n",
    "def get_model():\n",
    "    inputs = Input((None, None, None, 1))\n",
    "\n",
    "    # extract layers from pretrained model pt_model\n",
    "    with strategy.scope():\n",
    "        pt_model = load_model('evaluation/fold_0/model.hdf5', custom_objects={'dice_soft': dice_soft, 'dice_crossentropy': dice_crossentropy, 'tversky_loss': tversky_loss})\n",
    "\n",
    "    x = pt_model.layers[1](inputs)\n",
    "    \n",
    "    # take all layers until conv3d_9 (included)\n",
    "    for layer in pt_model.layers[2:pt_model.layers.index(pt_model.get_layer('conv3d_9')) + 1]:\n",
    "        x = layer(x)\n",
    "\n",
    "    x = BatchNormalization(name='b1')(x)\n",
    "    x = GlobalAveragePooling3D(name='gap1')(x)\n",
    "    x = Dense(256, activation='relu', name='d1')(x)\n",
    "    # x = Dropout(0.65, name='do1')(x)\n",
    "\n",
    "    x = Dense(128, activation='relu', name='d2')(x)\n",
    "    # x = Dropout(0.65, name='do2')(x)\n",
    "\n",
    "    x = Dense(2, activation='softmax', name='d3')(x)\n",
    "\n",
    "    return Model(inputs=inputs, outputs=x, name='encoder_model')"
   ]
  },
  {
   "cell_type": "code",
   "execution_count": null,
   "id": "1764b94c",
   "metadata": {},
   "outputs": [],
   "source": [
    "# from tensorflow.keras.models import load_model\n",
    "# from miscnn.neural_network.metrics import dice_soft, dice_crossentropy, tversky_loss\n",
    "\n",
    "\n",
    "# with strategy.scope():\n",
    "#     pt_model = load_model('evaluation/fold_0/model.hdf5', custom_objects={'dice_soft': dice_soft, 'dice_crossentropy': dice_crossentropy, 'tversky_loss': tversky_loss})\n",
    "\n",
    "# def get_model():\n",
    "#     inputs = Input((None, None, None, 1))\n",
    "\n",
    "#     encoder_output_layer = pt_model.get_layer('conv3d_9').output\n",
    "#     encoder_model = Model(inputs=pt_model.inputs, outputs=encoder_output_layer)\n",
    "\n",
    "#     x = encoder_model(inputs)\n",
    "#     x = BatchNormalization(name='b1')(x)\n",
    "#     x = GlobalAveragePooling3D(name='gap1')(x)\n",
    "#     x = Dense(256, activation='relu', name='d1')(x)\n",
    "#     # x = Dropout(0.5, name='do1')(x)\n",
    "\n",
    "#     x = Dense(64, activation='relu', name='d2')(x)\n",
    "#     # x = Dropout(0.5, name='do2')(x)\n",
    "\n",
    "#     x = Dense(2, activation='softmax', name='d3')(x)\n",
    "\n",
    "#     return Model(inputs=inputs, outputs=x, name='encoder_model')\n",
    "\n",
    "# model = get_model()\n",
    "# model.summary()"
   ]
  },
  {
   "cell_type": "code",
   "execution_count": null,
   "id": "63a6d2d8",
   "metadata": {},
   "outputs": [],
   "source": [
    "# def get_model(height=128, width=128, depth=64, channels=4):\n",
    "#     \"\"\"Build a 3D convolutional neural network model.\"\"\"\n",
    "#     inputs = Input((None, None, None, channels))\n",
    "\n",
    "#     # x = Normalization(mean=MEAN, variance=STD**2)(inputs)\n",
    "\n",
    "#     x = Conv3D(\n",
    "#         filters=16, kernel_size=3, strides=(1, 1, 1), padding='same', activation='relu'\n",
    "#     )(inputs)\n",
    "#     x = Conv3D(\n",
    "#         filters=16, kernel_size=3, strides=(1, 1, 1), padding='same', activation='relu'\n",
    "#     )(inputs)\n",
    "#     x = MaxPool3D(pool_size=(2, 2, 2), strides=(2, 2, 2), padding='same')(x)\n",
    "#     x = BatchNormalization()(x)\n",
    "    \n",
    "#     x = Conv3D(\n",
    "#         filters=32, kernel_size=3, strides=(1, 1, 1), padding='same', activation='relu'\n",
    "#     )(x)\n",
    "#     x = Conv3D(\n",
    "#         filters=32, kernel_size=3, strides=(1, 1, 1), padding='same', activation='relu'\n",
    "#     )(x)\n",
    "#     x = MaxPool3D(pool_size=(2, 2, 2), strides=(2, 2, 2), padding='same')(x)\n",
    "#     x = BatchNormalization()(x)\n",
    "    \n",
    "#     x = Conv3D(\n",
    "#         filters=64, kernel_size=3, strides=(1, 1, 1), padding='same', activation='relu'\n",
    "#     )(x)\n",
    "#     x = Conv3D(\n",
    "#         filters=64, kernel_size=3, strides=(1, 1, 1), padding='same', activation='relu'\n",
    "#     )(x)\n",
    "#     x = MaxPool3D(pool_size=(2, 2, 2), strides=(2, 2, 2), padding='same')(x)\n",
    "#     x = BatchNormalization()(x)\n",
    "    \n",
    "#     # x = Conv3D(\n",
    "#     #     filters=128, kernel_size=3, strides=(1, 1, 1), padding='same', activation='relu'\n",
    "#     # )(x)\n",
    "#     x = Conv3D(\n",
    "#         filters=128, kernel_size=3, strides=(1, 1, 1), padding='same', activation='relu'\n",
    "#     )(x)\n",
    "#     x = MaxPool3D(pool_size=(2, 2, 2), strides=(2, 2, 2), padding='same')(x)\n",
    "#     x = BatchNormalization()(x)\n",
    "\n",
    "#     x = GlobalAveragePooling3D()(x)\n",
    "    \n",
    "#     x = Dense(units=64, activation='relu')(x)\n",
    "#     # x = Dropout(0.6)(x)\n",
    "    \n",
    "#     x = Dense(units=32, activation='relu')(x)\n",
    "#     # x = Dropout(0.6)(x)\n",
    "\n",
    "#     outputs = Dense(units=config['n_classes'], activation='softmax')(x)\n",
    "\n",
    "#     return Model(inputs, outputs, name='3D-CNN')"
   ]
  },
  {
   "cell_type": "code",
   "execution_count": null,
   "id": "719a6847",
   "metadata": {},
   "outputs": [],
   "source": [
    "# class Conv2Plus1D(tf.keras.layers.Layer):\n",
    "#     def __init__(self, filters, kernel_size, padding, **kwargs):\n",
    "#         \"\"\"\n",
    "#             A sequence of convolutional layers that first apply the convolution operation\n",
    "#             over the spatial dimensions, and then the temporal dimension. \n",
    "#         \"\"\"\n",
    "#         super().__init__(**kwargs)\n",
    "#         self.seq = tf.keras.Sequential([  \n",
    "#             # Spatial decomposition\n",
    "#             Conv3D(filters=filters,\n",
    "#                    kernel_size=(1, kernel_size[1], kernel_size[2]),\n",
    "#                    padding=padding),\n",
    "#             # Temporal decomposition\n",
    "#             Conv3D(filters=filters, \n",
    "#                    kernel_size=(kernel_size[0], 1, 1),\n",
    "#                    padding=padding)\n",
    "#             ])\n",
    "#         self.filters = filters\n",
    "#         self.kernel_size = kernel_size\n",
    "#         self.padding = padding\n",
    "\n",
    "#     def call(self, x):\n",
    "#         return self.seq(x)\n",
    "    \n",
    "#     def get_config(self):\n",
    "#         config = super().get_config().copy()\n",
    "#         config.update({\n",
    "#             'filters': self.filters,\n",
    "#             'kernel_size': self.kernel_size,\n",
    "#             'padding': self.padding,\n",
    "#         })\n",
    "#         return config\n",
    "    \n",
    "\n",
    "# class ResidualMain(tf.keras.layers.Layer):\n",
    "#     \"\"\"\n",
    "#         Residual block of the model with convolution, layer normalization,\n",
    "#         and the activation function, ReLU.\n",
    "#     \"\"\"\n",
    "#     def __init__(self, filters, kernel_size, **kwargs):\n",
    "#         super().__init__(**kwargs)\n",
    "#         self.seq = tf.keras.Sequential([\n",
    "#             Conv2Plus1D(filters=filters,\n",
    "#                         kernel_size=kernel_size,\n",
    "#                         padding='same'),\n",
    "#             tf.keras.layers.LayerNormalization(),\n",
    "#             tf.keras.layers.ReLU(),\n",
    "#             Conv2Plus1D(filters=filters, \n",
    "#                         kernel_size=kernel_size,\n",
    "#                         padding='same'),\n",
    "#             tf.keras.layers.LayerNormalization()\n",
    "#         ])\n",
    "#         self.filters = filters\n",
    "#         self.kernel_size = kernel_size\n",
    "\n",
    "#     def call(self, x):\n",
    "#         return self.seq(x)\n",
    "    \n",
    "#     def get_config(self):\n",
    "#         config = super().get_config().copy()\n",
    "#         config.update({\n",
    "#             'filters': self.filters,\n",
    "#             'kernel_size': self.kernel_size,\n",
    "#         })\n",
    "#         return config\n",
    "    \n",
    "    \n",
    "# class Project(tf.keras.layers.Layer):\n",
    "#     \"\"\"\n",
    "#         Project certain dimensions of the tensor as the data is passed\n",
    "#         through different sized filters and downsampled.\n",
    "#     \"\"\"\n",
    "#     def __init__(self, units, **kwargs):\n",
    "#         super().__init__(**kwargs)\n",
    "#         self.seq = tf.keras.Sequential([\n",
    "#             tf.keras.layers.Dense(units),\n",
    "#             tf.keras.layers.LayerNormalization()\n",
    "#         ])\n",
    "#         self.units = units\n",
    "\n",
    "#     def call(self, x):\n",
    "#         return self.seq(x)\n",
    "    \n",
    "#     def get_config(self):\n",
    "#         config = super().get_config().copy()\n",
    "#         config.update({\n",
    "#             'units': self.units,\n",
    "#         })\n",
    "#         return config\n",
    "    \n",
    "    \n",
    "# def add_residual_block(input, filters, kernel_size):\n",
    "#     \"\"\"\n",
    "#         Add residual blocks to the model. If the last dimensions of the input data\n",
    "#         and filter size does not match, project it such that last dimension matches.\n",
    "#     \"\"\"\n",
    "#     out = ResidualMain(filters, kernel_size)(input)\n",
    "\n",
    "#     res = input\n",
    "#     # Using the Keras functional APIs, project the last dimension of the tensor to\n",
    "#     # match the new filter size\n",
    "#     if out.shape[-1] != input.shape[-1]:\n",
    "#         res = Project(out.shape[-1])(res)\n",
    "\n",
    "#     return tf.keras.layers.add([res, out])"
   ]
  },
  {
   "cell_type": "code",
   "execution_count": null,
   "id": "a85f843c",
   "metadata": {},
   "outputs": [],
   "source": [
    "# def get_model(height=128, width=128, depth=64, channels=3):\n",
    "#     \"\"\"Build a 3D convolutional neural network model.\"\"\"\n",
    "#     inputs = Input((None, None, None, channels))\n",
    "#     # x = Normalization(mean=MEAN, variance=STD**2)(inputs)\n",
    "\n",
    "#     x = add_residual_block(inputs, filters=16, kernel_size=(3, 3, 3))\n",
    "#     x = MaxPool3D(pool_size=(2, 2, 2), strides=(2, 2, 2), padding='same')(x)\n",
    "#     x = BatchNormalization()(x)\n",
    "\n",
    "#     x = add_residual_block(x, filters=32, kernel_size=(3, 3, 3))\n",
    "#     x = MaxPool3D(pool_size=(2, 2, 2), strides=(2, 2, 2), padding='same')(x)\n",
    "#     x = BatchNormalization()(x)\n",
    "    \n",
    "#     x = add_residual_block(x, filters=64, kernel_size=(3, 3, 3))\n",
    "#     x = MaxPool3D(pool_size=(2, 2, 2), strides=(2, 2, 2), padding='same')(x)\n",
    "#     x = BatchNormalization()(x)\n",
    "    \n",
    "#     x = add_residual_block(x, filters=128, kernel_size=(3, 3, 3))\n",
    "#     x = MaxPool3D(pool_size=(2, 2, 2), strides=(2, 2, 2), padding='same')(x)\n",
    "#     x = BatchNormalization()(x)\n",
    "\n",
    "#     x = GlobalAveragePooling3D()(x)\n",
    "    \n",
    "#     x = Dense(units=64, activation='relu')(x)\n",
    "#     # x = Dropout(0.35)(x)\n",
    "    \n",
    "#     x = Dense(units=32, activation='relu')(x)\n",
    "#     # x = Dropout(0.35)(x)\n",
    "\n",
    "#     outputs = Dense(units=config['n_classes'], activation='softmax')(x)\n",
    "\n",
    "#     return Model(inputs, outputs, name='2-1D-CNN2')"
   ]
  },
  {
   "cell_type": "code",
   "execution_count": null,
   "id": "e2f29a86",
   "metadata": {
    "_kg_hide-output": true,
    "execution": {
     "iopub.execute_input": "2023-04-21T21:44:09.980370Z",
     "iopub.status.busy": "2023-04-21T21:44:09.980027Z",
     "iopub.status.idle": "2023-04-21T21:44:13.533144Z",
     "shell.execute_reply": "2023-04-21T21:44:13.532296Z"
    },
    "papermill": {
     "duration": 3.629425,
     "end_time": "2023-04-21T21:44:13.576963",
     "exception": false,
     "start_time": "2023-04-21T21:44:09.947538",
     "status": "completed"
    },
    "tags": []
   },
   "outputs": [],
   "source": [
    "# Build model.\n",
    "# if wandb.run.resumed:\n",
    "# restore the best model\n",
    "# artifact = run.use_artifact(\n",
    "#     f'{os.environ.get(\"WANDB_ENTITY\")}/{os.environ.get(\"WANDB_MD_LUNG_PROJECT\")}/model-1-mw-21D-ResNet-cw-f0:v21', type='model')\n",
    "# artifact_dir = artifact.download()\n",
    "# model = tf.keras.models.load_model(\n",
    "#     artifact_dir,\n",
    "#     custom_objects={\n",
    "#         'Project': Project,\n",
    "#         'ResidualMain': ResidualMain,\n",
    "#         'Conv2Plus1D': Conv2Plus1D,\n",
    "#     }\n",
    "# )\n",
    "# else:\n",
    "with strategy.scope():\n",
    "    model = get_model()\n",
    "    # model = get_model(height=config['img_size'], width=config['img_size'] // 2,\n",
    "      # depth=config['depth'], channels=len(DATA_TYPES[:-1]))\n",
    "# best_model = wandb.restore(\n",
    "#     'model-best.h5',\n",
    "#      run_path=f\"{os.environ.get('WANDB_ENTITY')}/{os.environ.get('WANDB_MD_LUNG_PROJECT')}/1-mw-21D-ResNet\")\n",
    "# model.load_weights(best_model.name)\n",
    "# model = add_regularization(model, regularizer=tf.keras.regularizers.l2(1e-3))\n",
    "model.summary()"
   ]
  },
  {
   "cell_type": "markdown",
   "id": "dd622052",
   "metadata": {
    "papermill": {
     "duration": 0.029898,
     "end_time": "2023-04-21T21:44:13.638086",
     "exception": false,
     "start_time": "2023-04-21T21:44:13.608188",
     "status": "completed"
    },
    "tags": []
   },
   "source": [
    "## Class Weights"
   ]
  },
  {
   "cell_type": "code",
   "execution_count": null,
   "id": "fcea866a",
   "metadata": {
    "execution": {
     "iopub.execute_input": "2023-04-21T21:44:13.702400Z",
     "iopub.status.busy": "2023-04-21T21:44:13.701436Z",
     "iopub.status.idle": "2023-04-21T21:44:13.710341Z",
     "shell.execute_reply": "2023-04-21T21:44:13.709003Z"
    },
    "papermill": {
     "duration": 0.044538,
     "end_time": "2023-04-21T21:44:13.712903",
     "exception": false,
     "start_time": "2023-04-21T21:44:13.668365",
     "status": "completed"
    },
    "tags": []
   },
   "outputs": [],
   "source": [
    "train_labels = [labels[idx] for idx in train_indices]\n",
    "class_weights = class_weight.compute_class_weight(\n",
    "    class_weight='balanced', # balanced for computing weights based on class count\n",
    "    classes=np.unique(train_labels),\n",
    "    y=train_labels,\n",
    ")\n",
    "class_weights = dict(zip(np.unique(labels), class_weights))\n",
    "print(class_weights)"
   ]
  },
  {
   "cell_type": "markdown",
   "id": "97ac8330",
   "metadata": {
    "papermill": {
     "duration": 0.030513,
     "end_time": "2023-04-21T21:44:13.776166",
     "exception": false,
     "start_time": "2023-04-21T21:44:13.745653",
     "status": "completed"
    },
    "tags": []
   },
   "source": [
    "## Model Training"
   ]
  },
  {
   "cell_type": "code",
   "execution_count": null,
   "id": "211225b4",
   "metadata": {
    "_kg_hide-output": true,
    "execution": {
     "iopub.execute_input": "2023-04-21T21:44:13.838154Z",
     "iopub.status.busy": "2023-04-21T21:44:13.837823Z",
     "iopub.status.idle": "2023-04-21T21:56:56.693908Z",
     "shell.execute_reply": "2023-04-21T21:56:56.692973Z"
    },
    "papermill": {
     "duration": 762.90866,
     "end_time": "2023-04-21T21:56:56.714998",
     "exception": false,
     "start_time": "2023-04-21T21:44:13.806338",
     "status": "completed"
    },
    "tags": []
   },
   "outputs": [],
   "source": [
    "# Compile model\n",
    "with strategy.scope():\n",
    "    model.compile(\n",
    "        loss='categorical_crossentropy',\n",
    "        optimizer=Adam(learning_rate=config['learning_rate']),\n",
    "        metrics=['acc'],\n",
    "    )\n",
    "\n",
    "# Train the model\n",
    "model.fit(\n",
    "    training_generator,\n",
    "    validation_data=test_generator,\n",
    "    epochs=config['epochs'],\n",
    "    class_weight=class_weights,\n",
    "    # initial_epoch=wandb.run.step,\n",
    "    verbose=2,\n",
    "    callbacks=[\n",
    "        ModelCheckpoint(f'3d_pt_best.h5', save_best_only=True, monitor='val_loss', mode='min'),\n",
    "        ReduceLROnPlateau(\n",
    "            monitor='loss',\n",
    "            mode='min',\n",
    "            patience=15,\n",
    "            factor=0.1,\n",
    "            min_lr=config['min_learning_rate'],\n",
    "        ),\n",
    "        EarlyStopping(monitor='val_loss', mode='min',\n",
    "                      patience=30, restore_best_weights=True),\n",
    "        WandbCallback(monitor='val_loss', mode='min'),\n",
    "    ],\n",
    "    workers=6\n",
    ")"
   ]
  },
  {
   "cell_type": "markdown",
   "id": "852706a7",
   "metadata": {
    "papermill": {
     "duration": 0.031146,
     "end_time": "2023-04-21T21:56:56.776885",
     "exception": false,
     "start_time": "2023-04-21T21:56:56.745739",
     "status": "completed"
    },
    "tags": []
   },
   "source": [
    "## Visualizing Training History\n",
    "\n",
    "The training sets' model accuracy and loss are displayed here."
   ]
  },
  {
   "cell_type": "code",
   "execution_count": null,
   "id": "ca756e85",
   "metadata": {
    "execution": {
     "iopub.execute_input": "2023-04-21T21:56:56.839398Z",
     "iopub.status.busy": "2023-04-21T21:56:56.839042Z",
     "iopub.status.idle": "2023-04-21T21:56:57.200828Z",
     "shell.execute_reply": "2023-04-21T21:56:57.199409Z"
    },
    "papermill": {
     "duration": 0.396004,
     "end_time": "2023-04-21T21:56:57.203326",
     "exception": false,
     "start_time": "2023-04-21T21:56:56.807322",
     "status": "completed"
    },
    "tags": []
   },
   "outputs": [],
   "source": [
    "fig, ax = plt.subplots(1, 2, figsize=(20, 3))\n",
    "ax = ax.ravel()\n",
    "\n",
    "for i, metric in enumerate(['acc', 'loss']):\n",
    "    ax[i].plot(model.history.history[metric])\n",
    "    ax[i].plot(model.history.history[f'val_{metric}'])\n",
    "    ax[i].set_title(f'Model {metric}')\n",
    "    ax[i].set_xlabel('epochs')\n",
    "    ax[i].set_ylabel(metric)\n",
    "    ax[i].legend(['train', 'val'])"
   ]
  },
  {
   "cell_type": "markdown",
   "id": "f7c3edad",
   "metadata": {
    "papermill": {
     "duration": 0.031058,
     "end_time": "2023-04-21T21:56:57.268485",
     "exception": false,
     "start_time": "2023-04-21T21:56:57.237427",
     "status": "completed"
    },
    "tags": []
   },
   "source": [
    "## Cleanup"
   ]
  },
  {
   "cell_type": "code",
   "execution_count": null,
   "id": "d428efaf",
   "metadata": {
    "execution": {
     "iopub.execute_input": "2023-04-21T21:56:57.332674Z",
     "iopub.status.busy": "2023-04-21T21:56:57.332329Z",
     "iopub.status.idle": "2023-04-21T21:56:57.336941Z",
     "shell.execute_reply": "2023-04-21T21:56:57.335825Z"
    },
    "papermill": {
     "duration": 0.039317,
     "end_time": "2023-04-21T21:56:57.339056",
     "exception": false,
     "start_time": "2023-04-21T21:56:57.299739",
     "status": "completed"
    },
    "tags": []
   },
   "outputs": [],
   "source": [
    "wandb.finish()"
   ]
  },
  {
   "cell_type": "markdown",
   "id": "84a2b193",
   "metadata": {
    "papermill": {
     "duration": 0.031943,
     "end_time": "2023-04-21T21:56:57.403455",
     "exception": false,
     "start_time": "2023-04-21T21:56:57.371512",
     "status": "completed"
    },
    "tags": []
   },
   "source": [
    "## Single CT Scan Predictions"
   ]
  },
  {
   "cell_type": "code",
   "execution_count": null,
   "id": "8f740737",
   "metadata": {
    "execution": {
     "iopub.execute_input": "2023-04-21T21:56:57.467878Z",
     "iopub.status.busy": "2023-04-21T21:56:57.467557Z",
     "iopub.status.idle": "2023-04-21T21:56:59.280623Z",
     "shell.execute_reply": "2023-04-21T21:56:59.279405Z"
    },
    "papermill": {
     "duration": 1.848377,
     "end_time": "2023-04-21T21:56:59.283149",
     "exception": false,
     "start_time": "2023-04-21T21:56:57.434772",
     "status": "completed"
    },
    "tags": []
   },
   "outputs": [],
   "source": [
    "# model.load_weights(f'3d_best.h5')"
   ]
  },
  {
   "cell_type": "code",
   "execution_count": null,
   "id": "f62b7eed",
   "metadata": {},
   "outputs": [],
   "source": [
    "# os.makedirs(f'mid_results/fold{config[\"fold\"]}_128x64x128', exist_ok=True)"
   ]
  },
  {
   "cell_type": "code",
   "execution_count": null,
   "id": "4f3cce6e",
   "metadata": {},
   "outputs": [],
   "source": [
    "df_original = pd.read_csv(f'{BASE_PATH}/original_metadata.csv')\n",
    "print(df_original['label'].value_counts())\n",
    "\n",
    "test_paths = np.array([f'{path}volume.npz' for path in df_original['path']])\n",
    "test_labels = np.array(df_original['label'])\n",
    "test_indices = df_original[df_original['test'] == 1].index.values.tolist()\n",
    "\n",
    "y_test = test_labels"
   ]
  },
  {
   "cell_type": "code",
   "execution_count": null,
   "id": "6bc0733c",
   "metadata": {},
   "outputs": [],
   "source": [
    "for i in range(56):\n",
    "    artifact = run.use_artifact(\n",
    "        f'{os.environ.get(\"WANDB_ENTITY\")}/{os.environ.get(\"WANDB_KITS_PROJECT\")}/model-4-mw-3D-CNN-cw-st-resampled-pt-flips:v{i}', type='model')\n",
    "    artifact_dir = artifact.download()\n",
    "    model = tf.keras.models.load_model(\n",
    "        artifact_dir\n",
    "    )\n",
    "\n",
    "    y_pred = []\n",
    "    for ID in test_indices:\n",
    "        volume = np.load(test_paths[ID])['data'].astype('float32')\n",
    "\n",
    "        volume = np.expand_dims(volume, axis=3)\n",
    "        volume = np.expand_dims(volume, axis=0)\n",
    "        y_pred.append(np.argmax(model.predict(volume)))\n",
    "\n",
    "    # print(f'\\nArtifact {i}')\n",
    "    # print(classification_report(y_test, y_pred, digits=3))\n",
    "\n",
    "    # Create a txt file and append it with the classification report\n",
    "    with open(f'new_reports/4-mw-3D-CNN-cw-st-resampled-pt-flips.txt', 'a') as f:\n",
    "        f.write(f'Artifact {i}')\n",
    "        f.write(classification_report(y_test, y_pred, digits=3))\n",
    "        f.write('\\n')\n",
    "\n",
    "\n",
    "# #     y_pred = [np.argmax(x) for x in model.predict(test_generator, batch_size=config['test_batch_size'])]\n",
    "# #     y_test = [labels[idx] for idx in test_indices]\n",
    "# #     print(f'\\nArtifact {i}')\n",
    "# #     print(classification_report(y_test, y_pred, digits=3))\n",
    "# #     # save classification report to file\n",
    "# #     with open(f'mid_results/fold{config[\"fold\"]}_std_mean_no_edema/classification_report_{i}.txt', 'w') as f:\n",
    "# #         f.write(classification_report(y_test, y_pred, digits=3))\n",
    "\n",
    "# #     cfsn_matrix = confusion_matrix(y_test, y_pred)\n",
    "# #     df_cm = pd.DataFrame(cfsn_matrix, index=range(config['n_classes']), columns=CLASS_NAMES)\n",
    "# #     plt.figure(figsize=(15, 6))\n",
    "# #     sn.heatmap(df_cm, annot=True, linewidths=0.5, fmt='d')\n",
    "# #     plt.savefig(f'mid_results/fold{config[\"fold\"]}_std_mean/confusion_matrix_{i}.png')\n",
    "# #     plt.show()"
   ]
  },
  {
   "cell_type": "markdown",
   "id": "395b8803",
   "metadata": {
    "papermill": {
     "duration": 0.031159,
     "end_time": "2023-04-21T21:56:59.346410",
     "exception": false,
     "start_time": "2023-04-21T21:56:59.315251",
     "status": "completed"
    },
    "tags": []
   },
   "source": [
    "# Model Evaluation"
   ]
  },
  {
   "cell_type": "code",
   "execution_count": null,
   "id": "933cc8cc",
   "metadata": {
    "execution": {
     "iopub.execute_input": "2023-04-21T21:56:59.410164Z",
     "iopub.status.busy": "2023-04-21T21:56:59.409793Z",
     "iopub.status.idle": "2023-04-21T21:58:20.812562Z",
     "shell.execute_reply": "2023-04-21T21:58:20.811546Z"
    },
    "papermill": {
     "duration": 81.437739,
     "end_time": "2023-04-21T21:58:20.814905",
     "exception": false,
     "start_time": "2023-04-21T21:56:59.377166",
     "status": "completed"
    },
    "tags": []
   },
   "outputs": [],
   "source": [
    "# y_pred = [np.argmax(x) for x in model.predict(test_generator, batch_size=config['test_batch_size'])]\n",
    "y_test = [labels[idx] for idx in test_indices]"
   ]
  },
  {
   "cell_type": "code",
   "execution_count": null,
   "id": "5d434450",
   "metadata": {},
   "outputs": [],
   "source": [
    "df_original = pd.read_csv(f'{BASE_PATH}/original_metadata.csv')\n",
    "print(df_original['label'].value_counts())\n",
    "\n",
    "test_paths = np.array([f'{path}volume.npz' for path in df_original['path']])\n",
    "test_labels = np.array(df_original['label'])\n",
    "test_indices = df_original[df_original['test'] == 1].index.values.tolist()\n",
    "\n",
    "# load all test_indices and run the evaluation\n",
    "y_pred = []\n",
    "for ID in test_indices:\n",
    "    volume = np.load(test_paths[ID])['data']\n",
    "    volume = volume.astype('float32')\n",
    "\n",
    "    volume = np.expand_dims(volume, axis=3)\n",
    "    volume = np.expand_dims(volume, axis=0)\n",
    "    print(volume.shape)\n",
    "    y_pred.append(np.argmax(model.predict(volume)))\n",
    "\n",
    "y_test = test_labels\n",
    "print(classification_report(y_test, y_pred, digits=3))"
   ]
  },
  {
   "cell_type": "code",
   "execution_count": null,
   "id": "bf5426e3",
   "metadata": {},
   "outputs": [],
   "source": [
    "y_test = test_labels"
   ]
  },
  {
   "cell_type": "markdown",
   "id": "5ebb7550",
   "metadata": {
    "papermill": {
     "duration": 0.03888,
     "end_time": "2023-04-21T21:58:20.893522",
     "exception": false,
     "start_time": "2023-04-21T21:58:20.854642",
     "status": "completed"
    },
    "tags": []
   },
   "source": [
    "## Classification Report"
   ]
  },
  {
   "cell_type": "code",
   "execution_count": null,
   "id": "be735b33",
   "metadata": {
    "execution": {
     "iopub.execute_input": "2023-04-21T21:58:20.972073Z",
     "iopub.status.busy": "2023-04-21T21:58:20.971723Z",
     "iopub.status.idle": "2023-04-21T21:58:20.985746Z",
     "shell.execute_reply": "2023-04-21T21:58:20.984037Z"
    },
    "papermill": {
     "duration": 0.055972,
     "end_time": "2023-04-21T21:58:20.988169",
     "exception": false,
     "start_time": "2023-04-21T21:58:20.932197",
     "status": "completed"
    },
    "tags": []
   },
   "outputs": [],
   "source": [
    "print(classification_report(y_test, y_pred, digits=3))"
   ]
  },
  {
   "cell_type": "markdown",
   "id": "931c7091",
   "metadata": {
    "papermill": {
     "duration": 0.038279,
     "end_time": "2023-04-21T21:58:21.065082",
     "exception": false,
     "start_time": "2023-04-21T21:58:21.026803",
     "status": "completed"
    },
    "tags": []
   },
   "source": [
    "## Confusion Matrix"
   ]
  },
  {
   "cell_type": "code",
   "execution_count": null,
   "id": "b19ffbb8",
   "metadata": {
    "execution": {
     "iopub.execute_input": "2023-04-21T21:58:21.144748Z",
     "iopub.status.busy": "2023-04-21T21:58:21.144158Z",
     "iopub.status.idle": "2023-04-21T21:58:21.402106Z",
     "shell.execute_reply": "2023-04-21T21:58:21.401181Z"
    },
    "papermill": {
     "duration": 0.299634,
     "end_time": "2023-04-21T21:58:21.404464",
     "exception": false,
     "start_time": "2023-04-21T21:58:21.104830",
     "status": "completed"
    },
    "tags": []
   },
   "outputs": [],
   "source": [
    "cfsn_matrix = confusion_matrix(y_test, y_pred)\n",
    "df_cm = pd.DataFrame(cfsn_matrix, index=range(config['n_classes']), columns=CLASS_NAMES)\n",
    "plt.figure(figsize=(15, 6))\n",
    "sn.heatmap(df_cm, annot=True, linewidths=0.5, fmt='d')"
   ]
  },
  {
   "cell_type": "markdown",
   "id": "da3f14ac",
   "metadata": {
    "papermill": {
     "duration": 0.039638,
     "end_time": "2023-04-21T21:58:21.484447",
     "exception": false,
     "start_time": "2023-04-21T21:58:21.444809",
     "status": "completed"
    },
    "tags": []
   },
   "source": [
    "# Grad-CAM 3D Visualizations\n",
    "\n",
    "Now let us obtain a class activation heatmap for our image classification mode A detailed description of the procedure can be found in [Grad-CAM: Visual Explanations from Deep Networks via Gradient-based Localization](https://arxiv.org/abs/1610.02391) paper.\n",
    "\n",
    "**Gradient-weighted Class Activation Mapping (Grad-CAM)** employs the gradients of any target concept (for example, \"tiger\" in a classification network or a sequence of words in a captioning network) flowing into the final convolutional layer to generate a coarse localization map highlighting the important regions in the image for predicting the concept."
   ]
  },
  {
   "cell_type": "markdown",
   "id": "cc2863ce",
   "metadata": {
    "papermill": {
     "duration": 0.039342,
     "end_time": "2023-04-21T21:58:21.563587",
     "exception": false,
     "start_time": "2023-04-21T21:58:21.524245",
     "status": "completed"
    },
    "tags": []
   },
   "source": [
    "## Configurable Parameters\n",
    "\n",
    "Several prior studies claim that deeper representations in a CNN capture higher-level visual constructs. Furthermore, because convolutional layers naturally preserve spatial information that is lost in fully-connected layers, we may anticipate the **last** convolutional layers to provide the best compromise of high-level semantics and detailed spatial information.\n",
    "\n",
    "Use `model.summary()` to see the names of all layers in the mode These are necessary to get the value for `last_conv_layer_name`."
   ]
  },
  {
   "cell_type": "code",
   "execution_count": null,
   "id": "f0f35065",
   "metadata": {
    "execution": {
     "iopub.execute_input": "2023-04-21T21:58:21.643764Z",
     "iopub.status.busy": "2023-04-21T21:58:21.643412Z",
     "iopub.status.idle": "2023-04-21T21:58:21.648247Z",
     "shell.execute_reply": "2023-04-21T21:58:21.647234Z"
    },
    "papermill": {
     "duration": 0.047547,
     "end_time": "2023-04-21T21:58:21.650300",
     "exception": false,
     "start_time": "2023-04-21T21:58:21.602753",
     "status": "completed"
    },
    "tags": []
   },
   "outputs": [],
   "source": [
    "input_volume = test_generator.__getitem__(1)[0]\n",
    "prediction = model.predict(input_volume)[0]\n",
    "print(prediction)\n",
    "\n",
    "volume_size = input_volume.shape\n",
    "last_conv_layer_name = 'conv3d_6'"
   ]
  },
  {
   "cell_type": "markdown",
   "id": "97028193",
   "metadata": {
    "papermill": {
     "duration": 0.039088,
     "end_time": "2023-04-21T21:58:21.729353",
     "exception": false,
     "start_time": "2023-04-21T21:58:21.690265",
     "status": "completed"
    },
    "tags": []
   },
   "source": [
    "## Grad-CAM Algorithm\n",
    "\n",
    "*Grad-CAM* is **class-discriminative**, meaning it can produce a separate visualization for every class present in the image. This is the reason why we introduce the `pred_index` argument. Keep in mind that when we do not pass any value to our `pred_index`, the generated heatmap will correspond to the class with the highest probability. It uses the gradient information flowing into the last convolutional layer of the CNN to assign importance values to each neuron for a particular decision of interest."
   ]
  },
  {
   "cell_type": "code",
   "execution_count": null,
   "id": "50f21797",
   "metadata": {
    "execution": {
     "iopub.execute_input": "2023-04-21T21:58:21.809117Z",
     "iopub.status.busy": "2023-04-21T21:58:21.808779Z",
     "iopub.status.idle": "2023-04-21T21:58:21.818064Z",
     "shell.execute_reply": "2023-04-21T21:58:21.816185Z"
    },
    "papermill": {
     "duration": 0.052309,
     "end_time": "2023-04-21T21:58:21.820249",
     "exception": false,
     "start_time": "2023-04-21T21:58:21.767940",
     "status": "completed"
    },
    "tags": []
   },
   "outputs": [],
   "source": [
    "def make_gradcam_heatmap(img_array, model, last_conv_layer_name, pred_index=None):\n",
    "    \"\"\"Generate class activation heatmap\"\"\"\n",
    "    # First, we create a model that maps the input image to the activations\n",
    "    # of the last conv layer as well as the output predictions\n",
    "    grad_model = Model(\n",
    "        [model.inputs], [model.get_layer(\n",
    "            last_conv_layer_name).output, model.output]\n",
    "    )\n",
    "\n",
    "    # Then, we compute the gradient of the top predicted class for our input image\n",
    "    # with respect to the activations of the last conv layer\n",
    "    with tf.GradientTape() as tape:\n",
    "        last_conv_layer_output, preds = grad_model(img_array)\n",
    "        if pred_index is None:\n",
    "            pred_index = tf.argmax(preds[0])\n",
    "        class_channel = preds[:, pred_index]\n",
    "\n",
    "    # This is the gradient of the output neuron (top predicted or chosen)\n",
    "    # with regard to the output feature map of the last conv layer\n",
    "    grads = tape.gradient(class_channel, last_conv_layer_output)\n",
    "\n",
    "    # This is a vector where each entry is the mean intensity of the gradient\n",
    "    # over a specific feature map channel (equivalent to global average pooling)\n",
    "    pooled_grads = tf.reduce_mean(grads, axis=(0, 1, 2, 3))\n",
    "\n",
    "    # We multiply each channel in the feature map array\n",
    "    # by 'how important this channel is' with regard to the top predicted class\n",
    "    # then sum all the channels to obtain the heatmap class activation\n",
    "    last_conv_layer_output = last_conv_layer_output[0]\n",
    "    heatmap = last_conv_layer_output @ pooled_grads[..., tf.newaxis]\n",
    "    heatmap = tf.squeeze(heatmap)\n",
    "\n",
    "    # For visualization purpose, we will also normalize the heatmap between 0 & 1\n",
    "    # Notice that we clip the heatmap values, which is equivalent to applying ReLU\n",
    "    heatmap = tf.maximum(heatmap, 0) / tf.math.reduce_max(heatmap)\n",
    "    return heatmap.numpy()"
   ]
  },
  {
   "cell_type": "markdown",
   "id": "b2567d20",
   "metadata": {
    "papermill": {
     "duration": 0.038896,
     "end_time": "2023-04-21T21:58:21.897807",
     "exception": false,
     "start_time": "2023-04-21T21:58:21.858911",
     "status": "completed"
    },
    "tags": []
   },
   "source": [
    "## Heatmap Generation"
   ]
  },
  {
   "cell_type": "code",
   "execution_count": null,
   "id": "ecef5600",
   "metadata": {
    "execution": {
     "iopub.execute_input": "2023-04-21T21:58:21.977129Z",
     "iopub.status.busy": "2023-04-21T21:58:21.976795Z",
     "iopub.status.idle": "2023-04-21T21:58:24.326004Z",
     "shell.execute_reply": "2023-04-21T21:58:24.324933Z"
    },
    "papermill": {
     "duration": 2.39217,
     "end_time": "2023-04-21T21:58:24.328948",
     "exception": false,
     "start_time": "2023-04-21T21:58:21.936778",
     "status": "completed"
    },
    "tags": []
   },
   "outputs": [],
   "source": [
    "# Remove last layer's activation\n",
    "model.layers[-1].activation = None\n",
    "\n",
    "# Print what the top predicted class is\n",
    "input_volume = input_volume[0:1, :, :, :, :]\n",
    "img_array = input_volume\n",
    "\n",
    "preds = model.predict(img_array)\n",
    "print('Predicted:', preds[0])\n",
    "\n",
    "input_volume = np.squeeze(input_volume)\n",
    "# Generate class activation heatmap\n",
    "heatmap = make_gradcam_heatmap(img_array, model, last_conv_layer_name)"
   ]
  },
  {
   "cell_type": "code",
   "execution_count": null,
   "id": "4316f31a",
   "metadata": {
    "execution": {
     "iopub.execute_input": "2023-04-21T21:58:24.411643Z",
     "iopub.status.busy": "2023-04-21T21:58:24.411100Z",
     "iopub.status.idle": "2023-04-21T21:58:24.696059Z",
     "shell.execute_reply": "2023-04-21T21:58:24.694655Z"
    },
    "papermill": {
     "duration": 0.329439,
     "end_time": "2023-04-21T21:58:24.699511",
     "exception": false,
     "start_time": "2023-04-21T21:58:24.370072",
     "status": "completed"
    },
    "tags": []
   },
   "outputs": [],
   "source": [
    "plt.matshow(np.squeeze(heatmap[:, :, 1]))\n",
    "plt.show()"
   ]
  },
  {
   "cell_type": "markdown",
   "id": "fa96e211",
   "metadata": {
    "papermill": {
     "duration": 0.039648,
     "end_time": "2023-04-21T21:58:24.800797",
     "exception": false,
     "start_time": "2023-04-21T21:58:24.761149",
     "status": "completed"
    },
    "tags": []
   },
   "source": [
    "## Expanding Heatmap Dimensions\n",
    "\n",
    "Notice that similarly to resizing the input volume, expanding the heatmap dimensions is based on the *spline interpolated zoom*."
   ]
  },
  {
   "cell_type": "code",
   "execution_count": null,
   "id": "9d9e8eee",
   "metadata": {
    "execution": {
     "iopub.execute_input": "2023-04-21T21:58:24.881557Z",
     "iopub.status.busy": "2023-04-21T21:58:24.881163Z",
     "iopub.status.idle": "2023-04-21T21:58:26.521309Z",
     "shell.execute_reply": "2023-04-21T21:58:26.520218Z"
    },
    "papermill": {
     "duration": 1.683483,
     "end_time": "2023-04-21T21:58:26.523829",
     "exception": false,
     "start_time": "2023-04-21T21:58:24.840346",
     "status": "completed"
    },
    "tags": []
   },
   "outputs": [],
   "source": [
    "def get_resized_heatmap(heatmap, shape):\n",
    "    \"\"\"Resize heatmap to shape\"\"\"\n",
    "    # Rescale heatmap to a range 0-255\n",
    "    upscaled_heatmap = np.uint8(255 * heatmap)\n",
    "\n",
    "    upscaled_heatmap = zoom(\n",
    "        upscaled_heatmap,\n",
    "        (\n",
    "            shape[0] / upscaled_heatmap.shape[0],\n",
    "            shape[1] / upscaled_heatmap.shape[1],\n",
    "            shape[2] / upscaled_heatmap.shape[2],\n",
    "        ),\n",
    "    )\n",
    "\n",
    "    return upscaled_heatmap\n",
    "\n",
    "\n",
    "# skipping the channel axis \n",
    "resized_heatmap = get_resized_heatmap(heatmap, input_volume.shape)"
   ]
  },
  {
   "cell_type": "markdown",
   "id": "cf80e7da",
   "metadata": {
    "papermill": {
     "duration": 0.040335,
     "end_time": "2023-04-21T21:58:26.605682",
     "exception": false,
     "start_time": "2023-04-21T21:58:26.565347",
     "status": "completed"
    },
    "tags": []
   },
   "source": [
    "# Visualizations\n",
    "\n",
    "Now it is time for us to graphically visualize the results obtained by overlaying the heatmap with the image. We utilize the `jet` colormap for this."
   ]
  },
  {
   "cell_type": "code",
   "execution_count": null,
   "id": "7e172968",
   "metadata": {
    "execution": {
     "iopub.execute_input": "2023-04-21T21:58:26.689077Z",
     "iopub.status.busy": "2023-04-21T21:58:26.688718Z",
     "iopub.status.idle": "2023-04-21T21:58:27.151178Z",
     "shell.execute_reply": "2023-04-21T21:58:27.150137Z"
    },
    "papermill": {
     "duration": 0.508176,
     "end_time": "2023-04-21T21:58:27.154725",
     "exception": false,
     "start_time": "2023-04-21T21:58:26.646549",
     "status": "completed"
    },
    "tags": []
   },
   "outputs": [],
   "source": [
    "fig, ax = plt.subplots(1, 2, figsize=(10, 20))\n",
    "\n",
    "ax[0].imshow(np.squeeze(input_volume[:, :, 30]), cmap='bone')\n",
    "img0 = ax[1].imshow(np.squeeze(input_volume[:, :, 30]), cmap='bone')\n",
    "img1 = ax[1].imshow(np.squeeze(resized_heatmap[:, :, 30]),\n",
    "                    cmap='jet', alpha=0.3, extent=img0.get_extent())\n",
    "plt.show()"
   ]
  },
  {
   "cell_type": "markdown",
   "id": "62c73e4a",
   "metadata": {
    "papermill": {
     "duration": 0.04432,
     "end_time": "2023-04-21T21:58:27.244296",
     "exception": false,
     "start_time": "2023-04-21T21:58:27.199976",
     "status": "completed"
    },
    "tags": []
   },
   "source": [
    "## Bounding Boxes\n",
    "\n",
    "Here we prepare some functions that we will use to annotate images by drawing bounding boxes around the regions of interest. The bounding boxes are drawn on the images using the coordinates of the obtained from the heatmap in the following format: `(x_center, y_center, width, height)`.\n",
    "\n",
    "The process of obtaining the bounding boxes is as follows:\n",
    "\n",
    "1. Obtain the coordinates of the heatmap in places where its values are above a certain threshold (optionally, we can exploit Otsu's method to automatically determine the threshold).\n",
    "2. Find the connected components in the binary image obtained from the heatmap. Each connected component corresponds to a region of interest.\n",
    "3. For each connected component, obtain the bounding box coordinates using the minimal up-right rectangle technique.\n",
    "4. Draw the bounding boxes on the image."
   ]
  },
  {
   "cell_type": "code",
   "execution_count": null,
   "id": "fa0f0140",
   "metadata": {
    "_kg_hide-input": true,
    "execution": {
     "iopub.execute_input": "2023-04-21T21:58:27.331263Z",
     "iopub.status.busy": "2023-04-21T21:58:27.330896Z",
     "iopub.status.idle": "2023-04-21T21:58:27.596041Z",
     "shell.execute_reply": "2023-04-21T21:58:27.595003Z"
    },
    "papermill": {
     "duration": 0.312157,
     "end_time": "2023-04-21T21:58:27.598724",
     "exception": false,
     "start_time": "2023-04-21T21:58:27.286567",
     "status": "completed"
    },
    "tags": []
   },
   "outputs": [],
   "source": [
    "def nms(boxes, thresh=0.3):\n",
    "    \"\"\"\n",
    "    Non-maximum suppression: Greedily select high-scoring detections and\n",
    "    skip detections that are significantly covered by a previously\n",
    "    selected detection.\n",
    "\n",
    "    Source: https://pyimagesearch.com/2015/02/16/faster-non-maximum-suppression-python/\n",
    "    \"\"\"\n",
    "    # if there are no boxes, return an empty list\n",
    "    if len(boxes) == 0:\n",
    "        return []\n",
    "    # if the bounding boxes integers, convert them to floats --\n",
    "    # this is important since we'll be doing a bunch of divisions\n",
    "    if boxes.dtype.kind == \"i\":\n",
    "        boxes = boxes.astype(\"float\")\n",
    "    # initialize the list of picked indexes\t\n",
    "    pick = []\n",
    "    # grab the coordinates of the bounding boxes\n",
    "    x1 = boxes[:,0]\n",
    "    y1 = boxes[:,1]\n",
    "    x2 = boxes[:,2]\n",
    "    y2 = boxes[:,3]\n",
    "    # compute the area of the bounding boxes and sort the bounding\n",
    "    # boxes by the bottom-right y-coordinate of the bounding box\n",
    "    area = (x2 - x1 + 1) * (y2 - y1 + 1)\n",
    "    idxs = np.argsort(y2)\n",
    "    # keep looping while some indexes still remain in the indexes\n",
    "    # list\n",
    "    while len(idxs) > 0:\n",
    "        # grab the last index in the indexes list and add the\n",
    "        # index value to the list of picked indexes\n",
    "        last = len(idxs) - 1\n",
    "        i = idxs[last]\n",
    "        pick.append(i)\n",
    "        # find the largest (x, y) coordinates for the start of\n",
    "        # the bounding box and the smallest (x, y) coordinates\n",
    "        # for the end of the bounding box\n",
    "        xx1 = np.maximum(x1[i], x1[idxs[:last]])\n",
    "        yy1 = np.maximum(y1[i], y1[idxs[:last]])\n",
    "        xx2 = np.minimum(x2[i], x2[idxs[:last]])\n",
    "        yy2 = np.minimum(y2[i], y2[idxs[:last]])\n",
    "        # compute the width and height of the bounding box\n",
    "        w = np.maximum(0, xx2 - xx1 + 1)\n",
    "        h = np.maximum(0, yy2 - yy1 + 1)\n",
    "        # compute the ratio of overlap\n",
    "        overlap = (w * h) / area[idxs[:last]]\n",
    "        # delete all indexes from the index list that have\n",
    "        idxs = np.delete(idxs, np.concatenate(([last],\n",
    "            np.where(overlap > thresh)[0])))\n",
    "    # return only the bounding boxes that were picked using the\n",
    "    # integer data type\n",
    "    return boxes[pick].astype(\"int\")\n",
    "\n",
    "def get_bounding_boxes(heatmap, threshold=0.15, otsu=False):\n",
    "    \"\"\"Get bounding boxes from heatmap\"\"\"\n",
    "    p_heatmap = np.copy(heatmap)\n",
    "\n",
    "    if otsu:\n",
    "        # Otsu's thresholding method to find the bounding boxes\n",
    "        threshold, p_heatmap = cv2.threshold(\n",
    "            heatmap, 0, 255, cv2.THRESH_BINARY + cv2.THRESH_OTSU\n",
    "        )\n",
    "    else:\n",
    "        # Using a fixed threshold\n",
    "        p_heatmap[p_heatmap < threshold * 255] = 0\n",
    "        p_heatmap[p_heatmap >= threshold * 255] = 1\n",
    "\n",
    "    # find the contours in the thresholded heatmap\n",
    "    contours = cv2.findContours(p_heatmap, cv2.RETR_EXTERNAL, cv2.CHAIN_APPROX_SIMPLE)\n",
    "    contours = contours[0] if len(contours) == 2 else contours[1]\n",
    "\n",
    "    # get the bounding boxes from the contours\n",
    "    bboxes = []\n",
    "    for c in contours:\n",
    "        x, y, w, h = cv2.boundingRect(c)\n",
    "        bboxes.append([x, y, x + w, y + h])\n",
    "\n",
    "    return nms(np.array(bboxes))\n",
    "\n",
    "\n",
    "def get_bbox_patches(bboxes, color='r', linewidth=2):\n",
    "    \"\"\"Get patches for bounding boxes\"\"\"\n",
    "    patches = []\n",
    "    for bbox in bboxes:\n",
    "        x1, y1, x2, y2 = bbox\n",
    "        patches.append(\n",
    "            Rectangle(\n",
    "                (x1, y1),\n",
    "                x2 - x1,\n",
    "                y2 - y1,\n",
    "                edgecolor=color,\n",
    "                facecolor='none',\n",
    "                linewidth=linewidth,\n",
    "            )\n",
    "        )\n",
    "    return patches"
   ]
  },
  {
   "cell_type": "code",
   "execution_count": null,
   "id": "ed737ce7",
   "metadata": {
    "execution": {
     "iopub.execute_input": "2023-04-21T21:58:27.688137Z",
     "iopub.status.busy": "2023-04-21T21:58:27.687810Z",
     "iopub.status.idle": "2023-04-21T21:58:28.230152Z",
     "shell.execute_reply": "2023-04-21T21:58:28.229143Z"
    },
    "papermill": {
     "duration": 0.589104,
     "end_time": "2023-04-21T21:58:28.232523",
     "exception": false,
     "start_time": "2023-04-21T21:58:27.643419",
     "status": "completed"
    },
    "tags": []
   },
   "outputs": [],
   "source": [
    "# show the bounding boxes on the original image\n",
    "fig, ax = plt.subplots(1, 2, figsize=(10, 20))\n",
    "\n",
    "ax[0].imshow(np.squeeze(input_volume[:, :, 30]), cmap='bone')\n",
    "img0 = ax[1].imshow(np.squeeze(input_volume[:, :, 30]), cmap='bone')\n",
    "img1 = ax[1].imshow(np.squeeze(resized_heatmap[:, :, 30]),\n",
    "                    cmap='jet', alpha=0.3, extent=img0.get_extent())\n",
    "\n",
    "bboxes = get_bounding_boxes(np.squeeze(resized_heatmap[:, :, 30]))\n",
    "patches = get_bbox_patches(bboxes)\n",
    "\n",
    "for patch in patches:\n",
    "    ax[1].add_patch(patch)\n",
    "\n",
    "plt.show()"
   ]
  },
  {
   "cell_type": "markdown",
   "id": "7325d1f7",
   "metadata": {
    "papermill": {
     "duration": 0.045481,
     "end_time": "2023-04-21T21:58:28.326764",
     "exception": false,
     "start_time": "2023-04-21T21:58:28.281283",
     "status": "completed"
    },
    "tags": []
   },
   "source": [
    "## Interactive Slice Viewers\n",
    "\n",
    "_**Note:** unfortunately, *kaggle* does not currently handle preserving the widget state and embedding it into the static notebook preview, thus **dragging the slider has no effect on the displayed figures**. See the following discussions for more information: [#33450](https://www.kaggle.com/questions-and-answers/33450), [#42782](https://www.kaggle.com/product-feedback/42782), [#2360](https://github.com/jupyter-widgets/ipywidgets/issues/2360), [#13637754](https://stackoverflow.com/a/63575304/13637754). To see the interactive visualizations, simply copy the notebook and run it yourself._"
   ]
  },
  {
   "cell_type": "code",
   "execution_count": null,
   "id": "e94034c2",
   "metadata": {
    "_kg_hide-input": true,
    "execution": {
     "iopub.execute_input": "2023-04-21T21:58:28.419849Z",
     "iopub.status.busy": "2023-04-21T21:58:28.419445Z",
     "iopub.status.idle": "2023-04-21T21:58:28.440382Z",
     "shell.execute_reply": "2023-04-21T21:58:28.439144Z"
    },
    "papermill": {
     "duration": 0.070724,
     "end_time": "2023-04-21T21:58:28.442567",
     "exception": false,
     "start_time": "2023-04-21T21:58:28.371843",
     "status": "completed"
    },
    "tags": []
   },
   "outputs": [],
   "source": [
    "def _draw_line(ax, coords, clr='g'):\n",
    "    line = Path(coords, [Path.MOVETO, Path.LINETO])\n",
    "    pp = PathPatch(line, linewidth=3, edgecolor=clr, facecolor='none')\n",
    "    ax.add_patch(pp)\n",
    "\n",
    "\n",
    "def _set_axes_labels(ax, axes_x, axes_y):\n",
    "    ax.set_xlabel(axes_x)\n",
    "    ax.set_ylabel(axes_y)\n",
    "    ax.set_aspect('equal', 'box')\n",
    "\n",
    "\n",
    "def _draw_bboxes(ax, heatmap):\n",
    "    bboxes = get_bounding_boxes(heatmap, otsu=True)\n",
    "    patches = get_bbox_patches(bboxes)\n",
    "    for patch in patches:\n",
    "        ax.add_patch(patch)\n",
    "\n",
    "\n",
    "_rec_prop = dict(linewidth=5, facecolor='none')\n",
    "\n",
    "\n",
    "def show_volume(vol, z, y, x, heatmap=None, alpha=0.3, fig_size=(6, 6)):\n",
    "    \"\"\"Show a slice of a volume with optional heatmap\"\"\"\n",
    "    fig, axarr = plt.subplots(nrows=2, ncols=2, figsize=fig_size)\n",
    "    v_z, v_y, v_x = vol.shape\n",
    "\n",
    "    img0 = axarr[0, 0].imshow(vol[z, :, :], cmap='bone')\n",
    "    if heatmap is not None:\n",
    "        axarr[0, 0].imshow(\n",
    "            heatmap[z, :, :], cmap='jet', alpha=alpha, extent=img0.get_extent()\n",
    "        )\n",
    "        _draw_bboxes(axarr[0, 0], heatmap[z, :, :])\n",
    "\n",
    "    axarr[0, 0].add_patch(Rectangle((-1, -1), v_x, v_y, edgecolor='r', **_rec_prop))\n",
    "    _draw_line(axarr[0, 0], [(x, 0), (x, v_y)], 'g')\n",
    "    _draw_line(axarr[0, 0], [(0, y), (v_x, y)], 'b')\n",
    "    _set_axes_labels(axarr[0, 0], 'X', 'Y')\n",
    "\n",
    "    img1 = axarr[0, 1].imshow(vol[:, :, x].T, cmap='bone')\n",
    "    if heatmap is not None:\n",
    "        axarr[0, 1].imshow(\n",
    "            heatmap[:, :, x].T, cmap='jet', alpha=alpha, extent=img1.get_extent()\n",
    "        )\n",
    "        _draw_bboxes(axarr[0, 1], heatmap[:, :, x].T)\n",
    "\n",
    "    axarr[0, 1].add_patch(Rectangle((-1, -1), v_z, v_y, edgecolor='g', **_rec_prop))\n",
    "    _draw_line(axarr[0, 1], [(z, 0), (z, v_y)], 'r')\n",
    "    _draw_line(axarr[0, 1], [(0, y), (v_x, y)], \"b\")\n",
    "    _set_axes_labels(axarr[0, 1], 'Z', 'Y')\n",
    "\n",
    "    img2 = axarr[1, 0].imshow(vol[:, y, :], cmap='bone')\n",
    "    if heatmap is not None:\n",
    "        axarr[1, 0].imshow(\n",
    "            heatmap[:, y, :], cmap='jet', alpha=alpha, extent=img2.get_extent()\n",
    "        )\n",
    "        _draw_bboxes(axarr[1, 0], heatmap[:, y, :])\n",
    "\n",
    "    axarr[1, 0].add_patch(Rectangle((-1, -1), v_x, v_z, edgecolor='b', **_rec_prop))\n",
    "    _draw_line(axarr[1, 0], [(0, z), (v_x, z)], 'r')\n",
    "    _draw_line(axarr[1, 0], [(x, 0), (x, v_y)], 'g')\n",
    "    _set_axes_labels(axarr[1, 0], 'X', 'Z')\n",
    "    axarr[1, 1].set_axis_off()\n",
    "    fig.tight_layout()\n",
    "\n",
    "\n",
    "def interactive_show(volume, heatmap=None):\n",
    "    \"\"\"Show a volume interactively\"\"\"\n",
    "    # transpose volume from (x, y, z) to (z, y, x)\n",
    "    volume = np.transpose(volume, (2, 0, 1))\n",
    "    if heatmap is not None:\n",
    "        heatmap = np.transpose(heatmap, (2, 0, 1))\n",
    "    vol_shape = volume.shape\n",
    "\n",
    "    interact(\n",
    "        lambda x, y, z: plt.show(show_volume(volume, z, y, x, heatmap)),\n",
    "        z=IntSlider(min=0, max=vol_shape[0] - 1, step=1, value=int(vol_shape[0] / 2)),\n",
    "        y=IntSlider(min=0, max=vol_shape[1] - 1, step=1, value=int(vol_shape[1] / 2)),\n",
    "        x=IntSlider(min=0, max=vol_shape[2] - 1, step=1, value=int(vol_shape[2] / 2)),\n",
    "    )"
   ]
  },
  {
   "cell_type": "code",
   "execution_count": null,
   "id": "0bfc88da",
   "metadata": {
    "execution": {
     "iopub.execute_input": "2023-04-21T21:58:28.538899Z",
     "iopub.status.busy": "2023-04-21T21:58:28.538545Z",
     "iopub.status.idle": "2023-04-21T21:58:29.035075Z",
     "shell.execute_reply": "2023-04-21T21:58:29.034041Z"
    },
    "papermill": {
     "duration": 0.548771,
     "end_time": "2023-04-21T21:58:29.038284",
     "exception": false,
     "start_time": "2023-04-21T21:58:28.489513",
     "status": "completed"
    },
    "tags": []
   },
   "outputs": [],
   "source": [
    "interactive_show(input_volume)"
   ]
  },
  {
   "cell_type": "code",
   "execution_count": null,
   "id": "a980fc9f",
   "metadata": {
    "execution": {
     "iopub.execute_input": "2023-04-21T21:58:29.136031Z",
     "iopub.status.busy": "2023-04-21T21:58:29.135589Z",
     "iopub.status.idle": "2023-04-21T21:58:29.631013Z",
     "shell.execute_reply": "2023-04-21T21:58:29.630142Z"
    },
    "papermill": {
     "duration": 0.549249,
     "end_time": "2023-04-21T21:58:29.636387",
     "exception": false,
     "start_time": "2023-04-21T21:58:29.087138",
     "status": "completed"
    },
    "tags": []
   },
   "outputs": [],
   "source": [
    "interactive_show(input_volume, resized_heatmap)"
   ]
  },
  {
   "cell_type": "markdown",
   "id": "6ae51625",
   "metadata": {
    "papermill": {
     "duration": 0.045534,
     "end_time": "2023-04-21T21:58:29.731204",
     "exception": false,
     "start_time": "2023-04-21T21:58:29.685670",
     "status": "completed"
    },
    "tags": []
   },
   "source": [
    "## Animations"
   ]
  },
  {
   "cell_type": "code",
   "execution_count": null,
   "id": "bfa8d885",
   "metadata": {
    "_kg_hide-input": true,
    "execution": {
     "iopub.execute_input": "2023-04-21T21:58:29.824835Z",
     "iopub.status.busy": "2023-04-21T21:58:29.824381Z",
     "iopub.status.idle": "2023-04-21T21:58:29.835238Z",
     "shell.execute_reply": "2023-04-21T21:58:29.834028Z"
    },
    "papermill": {
     "duration": 0.060656,
     "end_time": "2023-04-21T21:58:29.837414",
     "exception": false,
     "start_time": "2023-04-21T21:58:29.776758",
     "status": "completed"
    },
    "tags": []
   },
   "outputs": [],
   "source": [
    "rc('animation', html='jshtml')\n",
    "\n",
    "\n",
    "def create_animation(array, case, heatmap=None, alpha=0.3):\n",
    "    \"\"\"Create an animation of a volume\"\"\"\n",
    "    array = np.transpose(array, (2, 0, 1))\n",
    "    if heatmap is not None:\n",
    "        heatmap = np.transpose(heatmap, (2, 0, 1))\n",
    "    fig = plt.figure(figsize=(4, 4))\n",
    "    images = []\n",
    "    for idx, image in enumerate(array):\n",
    "        # plot image without notifying animation\n",
    "        image_plot = plt.imshow(image, animated=True, cmap='bone')\n",
    "        aux = [image_plot]\n",
    "        if heatmap is not None:\n",
    "            image_plot2 = plt.imshow(\n",
    "                heatmap[idx], animated=True, cmap='jet', alpha=alpha, extent=image_plot.get_extent())\n",
    "            aux.append(image_plot2)\n",
    "\n",
    "            # add bounding boxes to the heatmap image as animated patches\n",
    "            bboxes = get_bounding_boxes(heatmap[idx])\n",
    "            patches = get_bbox_patches(bboxes)\n",
    "            aux.extend(image_plot2.axes.add_patch(patch) for patch in patches)\n",
    "        images.append(aux)\n",
    "\n",
    "    plt.axis('off')\n",
    "    plt.tight_layout()\n",
    "    plt.subplots_adjust(top=0.90)\n",
    "    plt.title(f'Patient ID: {case}', fontsize=16)\n",
    "    ani = animation.ArtistAnimation(\n",
    "        fig, images, interval=5000//len(array), blit=False, repeat_delay=1000)\n",
    "    plt.close()\n",
    "    return ani"
   ]
  },
  {
   "cell_type": "code",
   "execution_count": null,
   "id": "4b010543",
   "metadata": {
    "execution": {
     "iopub.execute_input": "2023-04-21T21:58:29.931679Z",
     "iopub.status.busy": "2023-04-21T21:58:29.931362Z",
     "iopub.status.idle": "2023-04-21T21:58:34.880661Z",
     "shell.execute_reply": "2023-04-21T21:58:34.872371Z"
    },
    "papermill": {
     "duration": 5.070679,
     "end_time": "2023-04-21T21:58:34.955169",
     "exception": false,
     "start_time": "2023-04-21T21:58:29.884490",
     "status": "completed"
    },
    "tags": []
   },
   "outputs": [],
   "source": [
    "create_animation(input_volume, 'Test')"
   ]
  },
  {
   "cell_type": "code",
   "execution_count": null,
   "id": "e840bdf4",
   "metadata": {
    "execution": {
     "iopub.execute_input": "2023-04-21T21:58:35.326493Z",
     "iopub.status.busy": "2023-04-21T21:58:35.325411Z",
     "iopub.status.idle": "2023-04-21T21:58:44.409971Z",
     "shell.execute_reply": "2023-04-21T21:58:44.408522Z"
    },
    "papermill": {
     "duration": 9.376033,
     "end_time": "2023-04-21T21:58:44.517955",
     "exception": false,
     "start_time": "2023-04-21T21:58:35.141922",
     "status": "completed"
    },
    "tags": []
   },
   "outputs": [],
   "source": [
    "create_animation(input_volume, 'Test', heatmap=resized_heatmap)"
   ]
  }
 ],
 "metadata": {
  "kernelspec": {
   "display_name": "Python 3",
   "language": "python",
   "name": "python3"
  },
  "language_info": {
   "codemirror_mode": {
    "name": "ipython",
    "version": 3
   },
   "file_extension": ".py",
   "mimetype": "text/x-python",
   "name": "python",
   "nbconvert_exporter": "python",
   "pygments_lexer": "ipython3",
   "version": "3.10.6"
  },
  "papermill": {
   "default_parameters": {},
   "duration": 909.549344,
   "end_time": "2023-04-21T21:58:47.757942",
   "environment_variables": {},
   "exception": null,
   "input_path": "__notebook__.ipynb",
   "output_path": "__notebook__.ipynb",
   "parameters": {},
   "start_time": "2023-04-21T21:43:38.208598",
   "version": "2.4.0"
  },
  "widgets": {
   "application/vnd.jupyter.widget-state+json": {
    "state": {
     "0b6ca25c80e648d691e10613e78e355c": {
      "model_module": "@jupyter-widgets/controls",
      "model_module_version": "1.5.0",
      "model_name": "SliderStyleModel",
      "state": {
       "_model_module": "@jupyter-widgets/controls",
       "_model_module_version": "1.5.0",
       "_model_name": "SliderStyleModel",
       "_view_count": null,
       "_view_module": "@jupyter-widgets/base",
       "_view_module_version": "1.2.0",
       "_view_name": "StyleView",
       "description_width": "",
       "handle_color": null
      }
     },
     "0d02555ea7d64524aa9675f6a5e8f6cc": {
      "model_module": "@jupyter-widgets/controls",
      "model_module_version": "1.5.0",
      "model_name": "IntSliderModel",
      "state": {
       "_dom_classes": [],
       "_model_module": "@jupyter-widgets/controls",
       "_model_module_version": "1.5.0",
       "_model_name": "IntSliderModel",
       "_view_count": null,
       "_view_module": "@jupyter-widgets/controls",
       "_view_module_version": "1.5.0",
       "_view_name": "IntSliderView",
       "continuous_update": true,
       "description": "x",
       "description_tooltip": null,
       "disabled": false,
       "layout": "IPY_MODEL_e73be1cad02e42458133aef4f38aedfe",
       "max": 119,
       "min": 0,
       "orientation": "horizontal",
       "readout": true,
       "readout_format": "d",
       "step": 1,
       "style": "IPY_MODEL_ea4d0d2dfbb943378ee2f06c4da0cd9b",
       "value": 60
      }
     },
     "13036fc0b089437689c66ae09f415a0c": {
      "model_module": "@jupyter-widgets/base",
      "model_module_version": "1.2.0",
      "model_name": "LayoutModel",
      "state": {
       "_model_module": "@jupyter-widgets/base",
       "_model_module_version": "1.2.0",
       "_model_name": "LayoutModel",
       "_view_count": null,
       "_view_module": "@jupyter-widgets/base",
       "_view_module_version": "1.2.0",
       "_view_name": "LayoutView",
       "align_content": null,
       "align_items": null,
       "align_self": null,
       "border": null,
       "bottom": null,
       "display": null,
       "flex": null,
       "flex_flow": null,
       "grid_area": null,
       "grid_auto_columns": null,
       "grid_auto_flow": null,
       "grid_auto_rows": null,
       "grid_column": null,
       "grid_gap": null,
       "grid_row": null,
       "grid_template_areas": null,
       "grid_template_columns": null,
       "grid_template_rows": null,
       "height": null,
       "justify_content": null,
       "justify_items": null,
       "left": null,
       "margin": null,
       "max_height": null,
       "max_width": null,
       "min_height": null,
       "min_width": null,
       "object_fit": null,
       "object_position": null,
       "order": null,
       "overflow": null,
       "overflow_x": null,
       "overflow_y": null,
       "padding": null,
       "right": null,
       "top": null,
       "visibility": null,
       "width": null
      }
     },
     "15657c816d5c4b9b97c8bb05890ec4fb": {
      "model_module": "@jupyter-widgets/controls",
      "model_module_version": "1.5.0",
      "model_name": "VBoxModel",
      "state": {
       "_dom_classes": [
        "widget-interact"
       ],
       "_model_module": "@jupyter-widgets/controls",
       "_model_module_version": "1.5.0",
       "_model_name": "VBoxModel",
       "_view_count": null,
       "_view_module": "@jupyter-widgets/controls",
       "_view_module_version": "1.5.0",
       "_view_name": "VBoxView",
       "box_style": "",
       "children": [
        "IPY_MODEL_48b41d1e601548f39e7e88c934ef50cc",
        "IPY_MODEL_fe59a801e0d6446296a990a24229d964",
        "IPY_MODEL_c0907f1f9cda444e864faf0a52bf353c",
        "IPY_MODEL_ee992cca7f4d4b7aae982c6c387e8eeb"
       ],
       "layout": "IPY_MODEL_a3a3c593ce4a4d47944baddff78712b6"
      }
     },
     "231078c035884572ba223bb32d696ded": {
      "model_module": "@jupyter-widgets/controls",
      "model_module_version": "1.5.0",
      "model_name": "SliderStyleModel",
      "state": {
       "_model_module": "@jupyter-widgets/controls",
       "_model_module_version": "1.5.0",
       "_model_name": "SliderStyleModel",
       "_view_count": null,
       "_view_module": "@jupyter-widgets/base",
       "_view_module_version": "1.2.0",
       "_view_name": "StyleView",
       "description_width": "",
       "handle_color": null
      }
     },
     "254266f78f3542c48b1e5e058e730ef5": {
      "model_module": "@jupyter-widgets/controls",
      "model_module_version": "1.5.0",
      "model_name": "SliderStyleModel",
      "state": {
       "_model_module": "@jupyter-widgets/controls",
       "_model_module_version": "1.5.0",
       "_model_name": "SliderStyleModel",
       "_view_count": null,
       "_view_module": "@jupyter-widgets/base",
       "_view_module_version": "1.2.0",
       "_view_name": "StyleView",
       "description_width": "",
       "handle_color": null
      }
     },
     "2588edc594c04ee3a4e35b9d39d95f76": {
      "model_module": "@jupyter-widgets/controls",
      "model_module_version": "1.5.0",
      "model_name": "VBoxModel",
      "state": {
       "_dom_classes": [
        "widget-interact"
       ],
       "_model_module": "@jupyter-widgets/controls",
       "_model_module_version": "1.5.0",
       "_model_name": "VBoxModel",
       "_view_count": null,
       "_view_module": "@jupyter-widgets/controls",
       "_view_module_version": "1.5.0",
       "_view_name": "VBoxView",
       "box_style": "",
       "children": [
        "IPY_MODEL_0d02555ea7d64524aa9675f6a5e8f6cc",
        "IPY_MODEL_9ed4dfb6c89d4b3b9e4f61069ed89779",
        "IPY_MODEL_32e8d4933c0249ba995c72ec6a4c51f1",
        "IPY_MODEL_c9e3fee968d14056bf908c6286f1b013"
       ],
       "layout": "IPY_MODEL_e4f493dc3cbc4a30a728c40dd2d612d3"
      }
     },
     "32e8d4933c0249ba995c72ec6a4c51f1": {
      "model_module": "@jupyter-widgets/controls",
      "model_module_version": "1.5.0",
      "model_name": "IntSliderModel",
      "state": {
       "_dom_classes": [],
       "_model_module": "@jupyter-widgets/controls",
       "_model_module_version": "1.5.0",
       "_model_name": "IntSliderModel",
       "_view_count": null,
       "_view_module": "@jupyter-widgets/controls",
       "_view_module_version": "1.5.0",
       "_view_name": "IntSliderView",
       "continuous_update": true,
       "description": "z",
       "description_tooltip": null,
       "disabled": false,
       "layout": "IPY_MODEL_de4bf3ff74184307ace8f94318af8128",
       "max": 154,
       "min": 0,
       "orientation": "horizontal",
       "readout": true,
       "readout_format": "d",
       "step": 1,
       "style": "IPY_MODEL_4195e89bf8b44cdaa86d86567e9d4345",
       "value": 77
      }
     },
     "3c0deacd05ba40da80f914a7c5c1df35": {
      "model_module": "@jupyter-widgets/base",
      "model_module_version": "1.2.0",
      "model_name": "LayoutModel",
      "state": {
       "_model_module": "@jupyter-widgets/base",
       "_model_module_version": "1.2.0",
       "_model_name": "LayoutModel",
       "_view_count": null,
       "_view_module": "@jupyter-widgets/base",
       "_view_module_version": "1.2.0",
       "_view_name": "LayoutView",
       "align_content": null,
       "align_items": null,
       "align_self": null,
       "border": null,
       "bottom": null,
       "display": null,
       "flex": null,
       "flex_flow": null,
       "grid_area": null,
       "grid_auto_columns": null,
       "grid_auto_flow": null,
       "grid_auto_rows": null,
       "grid_column": null,
       "grid_gap": null,
       "grid_row": null,
       "grid_template_areas": null,
       "grid_template_columns": null,
       "grid_template_rows": null,
       "height": null,
       "justify_content": null,
       "justify_items": null,
       "left": null,
       "margin": null,
       "max_height": null,
       "max_width": null,
       "min_height": null,
       "min_width": null,
       "object_fit": null,
       "object_position": null,
       "order": null,
       "overflow": null,
       "overflow_x": null,
       "overflow_y": null,
       "padding": null,
       "right": null,
       "top": null,
       "visibility": null,
       "width": null
      }
     },
     "4195e89bf8b44cdaa86d86567e9d4345": {
      "model_module": "@jupyter-widgets/controls",
      "model_module_version": "1.5.0",
      "model_name": "SliderStyleModel",
      "state": {
       "_model_module": "@jupyter-widgets/controls",
       "_model_module_version": "1.5.0",
       "_model_name": "SliderStyleModel",
       "_view_count": null,
       "_view_module": "@jupyter-widgets/base",
       "_view_module_version": "1.2.0",
       "_view_name": "StyleView",
       "description_width": "",
       "handle_color": null
      }
     },
     "48b41d1e601548f39e7e88c934ef50cc": {
      "model_module": "@jupyter-widgets/controls",
      "model_module_version": "1.5.0",
      "model_name": "IntSliderModel",
      "state": {
       "_dom_classes": [],
       "_model_module": "@jupyter-widgets/controls",
       "_model_module_version": "1.5.0",
       "_model_name": "IntSliderModel",
       "_view_count": null,
       "_view_module": "@jupyter-widgets/controls",
       "_view_module_version": "1.5.0",
       "_view_name": "IntSliderView",
       "continuous_update": true,
       "description": "x",
       "description_tooltip": null,
       "disabled": false,
       "layout": "IPY_MODEL_adc007e0b0f646c280722ca513b75e04",
       "max": 119,
       "min": 0,
       "orientation": "horizontal",
       "readout": true,
       "readout_format": "d",
       "step": 1,
       "style": "IPY_MODEL_0b6ca25c80e648d691e10613e78e355c",
       "value": 60
      }
     },
     "70ff8c028d264d1a9f9bfddf42d5a62d": {
      "model_module": "@jupyter-widgets/base",
      "model_module_version": "1.2.0",
      "model_name": "LayoutModel",
      "state": {
       "_model_module": "@jupyter-widgets/base",
       "_model_module_version": "1.2.0",
       "_model_name": "LayoutModel",
       "_view_count": null,
       "_view_module": "@jupyter-widgets/base",
       "_view_module_version": "1.2.0",
       "_view_name": "LayoutView",
       "align_content": null,
       "align_items": null,
       "align_self": null,
       "border": null,
       "bottom": null,
       "display": null,
       "flex": null,
       "flex_flow": null,
       "grid_area": null,
       "grid_auto_columns": null,
       "grid_auto_flow": null,
       "grid_auto_rows": null,
       "grid_column": null,
       "grid_gap": null,
       "grid_row": null,
       "grid_template_areas": null,
       "grid_template_columns": null,
       "grid_template_rows": null,
       "height": null,
       "justify_content": null,
       "justify_items": null,
       "left": null,
       "margin": null,
       "max_height": null,
       "max_width": null,
       "min_height": null,
       "min_width": null,
       "object_fit": null,
       "object_position": null,
       "order": null,
       "overflow": null,
       "overflow_x": null,
       "overflow_y": null,
       "padding": null,
       "right": null,
       "top": null,
       "visibility": null,
       "width": null
      }
     },
     "9ed4dfb6c89d4b3b9e4f61069ed89779": {
      "model_module": "@jupyter-widgets/controls",
      "model_module_version": "1.5.0",
      "model_name": "IntSliderModel",
      "state": {
       "_dom_classes": [],
       "_model_module": "@jupyter-widgets/controls",
       "_model_module_version": "1.5.0",
       "_model_name": "IntSliderModel",
       "_view_count": null,
       "_view_module": "@jupyter-widgets/controls",
       "_view_module_version": "1.5.0",
       "_view_name": "IntSliderView",
       "continuous_update": true,
       "description": "y",
       "description_tooltip": null,
       "disabled": false,
       "layout": "IPY_MODEL_d0e62409e6654e358c4cba47d6f5ff53",
       "max": 239,
       "min": 0,
       "orientation": "horizontal",
       "readout": true,
       "readout_format": "d",
       "step": 1,
       "style": "IPY_MODEL_231078c035884572ba223bb32d696ded",
       "value": 120
      }
     },
     "a3a3c593ce4a4d47944baddff78712b6": {
      "model_module": "@jupyter-widgets/base",
      "model_module_version": "1.2.0",
      "model_name": "LayoutModel",
      "state": {
       "_model_module": "@jupyter-widgets/base",
       "_model_module_version": "1.2.0",
       "_model_name": "LayoutModel",
       "_view_count": null,
       "_view_module": "@jupyter-widgets/base",
       "_view_module_version": "1.2.0",
       "_view_name": "LayoutView",
       "align_content": null,
       "align_items": null,
       "align_self": null,
       "border": null,
       "bottom": null,
       "display": null,
       "flex": null,
       "flex_flow": null,
       "grid_area": null,
       "grid_auto_columns": null,
       "grid_auto_flow": null,
       "grid_auto_rows": null,
       "grid_column": null,
       "grid_gap": null,
       "grid_row": null,
       "grid_template_areas": null,
       "grid_template_columns": null,
       "grid_template_rows": null,
       "height": null,
       "justify_content": null,
       "justify_items": null,
       "left": null,
       "margin": null,
       "max_height": null,
       "max_width": null,
       "min_height": null,
       "min_width": null,
       "object_fit": null,
       "object_position": null,
       "order": null,
       "overflow": null,
       "overflow_x": null,
       "overflow_y": null,
       "padding": null,
       "right": null,
       "top": null,
       "visibility": null,
       "width": null
      }
     },
     "a55e6e2406ea437f9da8461488ccc614": {
      "model_module": "@jupyter-widgets/controls",
      "model_module_version": "1.5.0",
      "model_name": "SliderStyleModel",
      "state": {
       "_model_module": "@jupyter-widgets/controls",
       "_model_module_version": "1.5.0",
       "_model_name": "SliderStyleModel",
       "_view_count": null,
       "_view_module": "@jupyter-widgets/base",
       "_view_module_version": "1.2.0",
       "_view_name": "StyleView",
       "description_width": "",
       "handle_color": null
      }
     },
     "a738adbdd4424445997712130b9f3184": {
      "model_module": "@jupyter-widgets/base",
      "model_module_version": "1.2.0",
      "model_name": "LayoutModel",
      "state": {
       "_model_module": "@jupyter-widgets/base",
       "_model_module_version": "1.2.0",
       "_model_name": "LayoutModel",
       "_view_count": null,
       "_view_module": "@jupyter-widgets/base",
       "_view_module_version": "1.2.0",
       "_view_name": "LayoutView",
       "align_content": null,
       "align_items": null,
       "align_self": null,
       "border": null,
       "bottom": null,
       "display": null,
       "flex": null,
       "flex_flow": null,
       "grid_area": null,
       "grid_auto_columns": null,
       "grid_auto_flow": null,
       "grid_auto_rows": null,
       "grid_column": null,
       "grid_gap": null,
       "grid_row": null,
       "grid_template_areas": null,
       "grid_template_columns": null,
       "grid_template_rows": null,
       "height": null,
       "justify_content": null,
       "justify_items": null,
       "left": null,
       "margin": null,
       "max_height": null,
       "max_width": null,
       "min_height": null,
       "min_width": null,
       "object_fit": null,
       "object_position": null,
       "order": null,
       "overflow": null,
       "overflow_x": null,
       "overflow_y": null,
       "padding": null,
       "right": null,
       "top": null,
       "visibility": null,
       "width": null
      }
     },
     "adc007e0b0f646c280722ca513b75e04": {
      "model_module": "@jupyter-widgets/base",
      "model_module_version": "1.2.0",
      "model_name": "LayoutModel",
      "state": {
       "_model_module": "@jupyter-widgets/base",
       "_model_module_version": "1.2.0",
       "_model_name": "LayoutModel",
       "_view_count": null,
       "_view_module": "@jupyter-widgets/base",
       "_view_module_version": "1.2.0",
       "_view_name": "LayoutView",
       "align_content": null,
       "align_items": null,
       "align_self": null,
       "border": null,
       "bottom": null,
       "display": null,
       "flex": null,
       "flex_flow": null,
       "grid_area": null,
       "grid_auto_columns": null,
       "grid_auto_flow": null,
       "grid_auto_rows": null,
       "grid_column": null,
       "grid_gap": null,
       "grid_row": null,
       "grid_template_areas": null,
       "grid_template_columns": null,
       "grid_template_rows": null,
       "height": null,
       "justify_content": null,
       "justify_items": null,
       "left": null,
       "margin": null,
       "max_height": null,
       "max_width": null,
       "min_height": null,
       "min_width": null,
       "object_fit": null,
       "object_position": null,
       "order": null,
       "overflow": null,
       "overflow_x": null,
       "overflow_y": null,
       "padding": null,
       "right": null,
       "top": null,
       "visibility": null,
       "width": null
      }
     },
     "c0907f1f9cda444e864faf0a52bf353c": {
      "model_module": "@jupyter-widgets/controls",
      "model_module_version": "1.5.0",
      "model_name": "IntSliderModel",
      "state": {
       "_dom_classes": [],
       "_model_module": "@jupyter-widgets/controls",
       "_model_module_version": "1.5.0",
       "_model_name": "IntSliderModel",
       "_view_count": null,
       "_view_module": "@jupyter-widgets/controls",
       "_view_module_version": "1.5.0",
       "_view_name": "IntSliderView",
       "continuous_update": true,
       "description": "z",
       "description_tooltip": null,
       "disabled": false,
       "layout": "IPY_MODEL_70ff8c028d264d1a9f9bfddf42d5a62d",
       "max": 154,
       "min": 0,
       "orientation": "horizontal",
       "readout": true,
       "readout_format": "d",
       "step": 1,
       "style": "IPY_MODEL_a55e6e2406ea437f9da8461488ccc614",
       "value": 77
      }
     },
     "c9e3fee968d14056bf908c6286f1b013": {
      "model_module": "@jupyter-widgets/output",
      "model_module_version": "1.0.0",
      "model_name": "OutputModel",
      "state": {
       "_dom_classes": [],
       "_model_module": "@jupyter-widgets/output",
       "_model_module_version": "1.0.0",
       "_model_name": "OutputModel",
       "_view_count": null,
       "_view_module": "@jupyter-widgets/output",
       "_view_module_version": "1.0.0",
       "_view_name": "OutputView",
       "layout": "IPY_MODEL_a738adbdd4424445997712130b9f3184",
       "msg_id": "",
       "outputs": [
        {
         "data": {
          "image/png": "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\n",
          "text/plain": "<Figure size 600x600 with 4 Axes>"
         },
         "metadata": {},
         "output_type": "display_data"
        }
       ]
      }
     },
     "d0e62409e6654e358c4cba47d6f5ff53": {
      "model_module": "@jupyter-widgets/base",
      "model_module_version": "1.2.0",
      "model_name": "LayoutModel",
      "state": {
       "_model_module": "@jupyter-widgets/base",
       "_model_module_version": "1.2.0",
       "_model_name": "LayoutModel",
       "_view_count": null,
       "_view_module": "@jupyter-widgets/base",
       "_view_module_version": "1.2.0",
       "_view_name": "LayoutView",
       "align_content": null,
       "align_items": null,
       "align_self": null,
       "border": null,
       "bottom": null,
       "display": null,
       "flex": null,
       "flex_flow": null,
       "grid_area": null,
       "grid_auto_columns": null,
       "grid_auto_flow": null,
       "grid_auto_rows": null,
       "grid_column": null,
       "grid_gap": null,
       "grid_row": null,
       "grid_template_areas": null,
       "grid_template_columns": null,
       "grid_template_rows": null,
       "height": null,
       "justify_content": null,
       "justify_items": null,
       "left": null,
       "margin": null,
       "max_height": null,
       "max_width": null,
       "min_height": null,
       "min_width": null,
       "object_fit": null,
       "object_position": null,
       "order": null,
       "overflow": null,
       "overflow_x": null,
       "overflow_y": null,
       "padding": null,
       "right": null,
       "top": null,
       "visibility": null,
       "width": null
      }
     },
     "de4bf3ff74184307ace8f94318af8128": {
      "model_module": "@jupyter-widgets/base",
      "model_module_version": "1.2.0",
      "model_name": "LayoutModel",
      "state": {
       "_model_module": "@jupyter-widgets/base",
       "_model_module_version": "1.2.0",
       "_model_name": "LayoutModel",
       "_view_count": null,
       "_view_module": "@jupyter-widgets/base",
       "_view_module_version": "1.2.0",
       "_view_name": "LayoutView",
       "align_content": null,
       "align_items": null,
       "align_self": null,
       "border": null,
       "bottom": null,
       "display": null,
       "flex": null,
       "flex_flow": null,
       "grid_area": null,
       "grid_auto_columns": null,
       "grid_auto_flow": null,
       "grid_auto_rows": null,
       "grid_column": null,
       "grid_gap": null,
       "grid_row": null,
       "grid_template_areas": null,
       "grid_template_columns": null,
       "grid_template_rows": null,
       "height": null,
       "justify_content": null,
       "justify_items": null,
       "left": null,
       "margin": null,
       "max_height": null,
       "max_width": null,
       "min_height": null,
       "min_width": null,
       "object_fit": null,
       "object_position": null,
       "order": null,
       "overflow": null,
       "overflow_x": null,
       "overflow_y": null,
       "padding": null,
       "right": null,
       "top": null,
       "visibility": null,
       "width": null
      }
     },
     "e4f493dc3cbc4a30a728c40dd2d612d3": {
      "model_module": "@jupyter-widgets/base",
      "model_module_version": "1.2.0",
      "model_name": "LayoutModel",
      "state": {
       "_model_module": "@jupyter-widgets/base",
       "_model_module_version": "1.2.0",
       "_model_name": "LayoutModel",
       "_view_count": null,
       "_view_module": "@jupyter-widgets/base",
       "_view_module_version": "1.2.0",
       "_view_name": "LayoutView",
       "align_content": null,
       "align_items": null,
       "align_self": null,
       "border": null,
       "bottom": null,
       "display": null,
       "flex": null,
       "flex_flow": null,
       "grid_area": null,
       "grid_auto_columns": null,
       "grid_auto_flow": null,
       "grid_auto_rows": null,
       "grid_column": null,
       "grid_gap": null,
       "grid_row": null,
       "grid_template_areas": null,
       "grid_template_columns": null,
       "grid_template_rows": null,
       "height": null,
       "justify_content": null,
       "justify_items": null,
       "left": null,
       "margin": null,
       "max_height": null,
       "max_width": null,
       "min_height": null,
       "min_width": null,
       "object_fit": null,
       "object_position": null,
       "order": null,
       "overflow": null,
       "overflow_x": null,
       "overflow_y": null,
       "padding": null,
       "right": null,
       "top": null,
       "visibility": null,
       "width": null
      }
     },
     "e73be1cad02e42458133aef4f38aedfe": {
      "model_module": "@jupyter-widgets/base",
      "model_module_version": "1.2.0",
      "model_name": "LayoutModel",
      "state": {
       "_model_module": "@jupyter-widgets/base",
       "_model_module_version": "1.2.0",
       "_model_name": "LayoutModel",
       "_view_count": null,
       "_view_module": "@jupyter-widgets/base",
       "_view_module_version": "1.2.0",
       "_view_name": "LayoutView",
       "align_content": null,
       "align_items": null,
       "align_self": null,
       "border": null,
       "bottom": null,
       "display": null,
       "flex": null,
       "flex_flow": null,
       "grid_area": null,
       "grid_auto_columns": null,
       "grid_auto_flow": null,
       "grid_auto_rows": null,
       "grid_column": null,
       "grid_gap": null,
       "grid_row": null,
       "grid_template_areas": null,
       "grid_template_columns": null,
       "grid_template_rows": null,
       "height": null,
       "justify_content": null,
       "justify_items": null,
       "left": null,
       "margin": null,
       "max_height": null,
       "max_width": null,
       "min_height": null,
       "min_width": null,
       "object_fit": null,
       "object_position": null,
       "order": null,
       "overflow": null,
       "overflow_x": null,
       "overflow_y": null,
       "padding": null,
       "right": null,
       "top": null,
       "visibility": null,
       "width": null
      }
     },
     "ea4d0d2dfbb943378ee2f06c4da0cd9b": {
      "model_module": "@jupyter-widgets/controls",
      "model_module_version": "1.5.0",
      "model_name": "SliderStyleModel",
      "state": {
       "_model_module": "@jupyter-widgets/controls",
       "_model_module_version": "1.5.0",
       "_model_name": "SliderStyleModel",
       "_view_count": null,
       "_view_module": "@jupyter-widgets/base",
       "_view_module_version": "1.2.0",
       "_view_name": "StyleView",
       "description_width": "",
       "handle_color": null
      }
     },
     "ee992cca7f4d4b7aae982c6c387e8eeb": {
      "model_module": "@jupyter-widgets/output",
      "model_module_version": "1.0.0",
      "model_name": "OutputModel",
      "state": {
       "_dom_classes": [],
       "_model_module": "@jupyter-widgets/output",
       "_model_module_version": "1.0.0",
       "_model_name": "OutputModel",
       "_view_count": null,
       "_view_module": "@jupyter-widgets/output",
       "_view_module_version": "1.0.0",
       "_view_name": "OutputView",
       "layout": "IPY_MODEL_3c0deacd05ba40da80f914a7c5c1df35",
       "msg_id": "",
       "outputs": [
        {
         "data": {
          "image/png": "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\n",
          "text/plain": "<Figure size 600x600 with 4 Axes>"
         },
         "metadata": {},
         "output_type": "display_data"
        }
       ]
      }
     },
     "fe59a801e0d6446296a990a24229d964": {
      "model_module": "@jupyter-widgets/controls",
      "model_module_version": "1.5.0",
      "model_name": "IntSliderModel",
      "state": {
       "_dom_classes": [],
       "_model_module": "@jupyter-widgets/controls",
       "_model_module_version": "1.5.0",
       "_model_name": "IntSliderModel",
       "_view_count": null,
       "_view_module": "@jupyter-widgets/controls",
       "_view_module_version": "1.5.0",
       "_view_name": "IntSliderView",
       "continuous_update": true,
       "description": "y",
       "description_tooltip": null,
       "disabled": false,
       "layout": "IPY_MODEL_13036fc0b089437689c66ae09f415a0c",
       "max": 239,
       "min": 0,
       "orientation": "horizontal",
       "readout": true,
       "readout_format": "d",
       "step": 1,
       "style": "IPY_MODEL_254266f78f3542c48b1e5e058e730ef5",
       "value": 120
      }
     }
    },
    "version_major": 2,
    "version_minor": 0
   }
  }
 },
 "nbformat": 4,
 "nbformat_minor": 5
}
