{
 "cells": [
  {
   "attachments": {},
   "cell_type": "markdown",
   "metadata": {},
   "source": [
    "# Analyzing Tumor Percentage per Volume vs Model Performance\n",
    "\n",
    "![CT Image](https://storage.googleapis.com/kaggle-datasets-images/674071/1185670/0d449dc88ac1318321ae8f7de974f0fa/dataset-cover.jpg?t=2020-05-25-13-21-33)\n",
    "\n",
    "- **Author:** *Mariusz Wiśniewski*\n",
    "- **Date created:** *May 4th, 2023*\n",
    "- **Last modified:** *May 4th, 2023*\n",
    "\n",
    "## Overview\n",
    "\n",
    "This notebook shows how to analyze the relationship between the percentage of the volume that is occupied by the tumor and the performance of the model."
   ]
  },
  {
   "attachments": {},
   "cell_type": "markdown",
   "metadata": {},
   "source": [
    "# Notebook Setup"
   ]
  },
  {
   "attachments": {},
   "cell_type": "markdown",
   "metadata": {},
   "source": [
    "## Import Statements"
   ]
  },
  {
   "cell_type": "code",
   "execution_count": 61,
   "metadata": {},
   "outputs": [],
   "source": [
    "import os\n",
    "from glob import glob\n",
    "\n",
    "import matplotlib.pyplot as plt\n",
    "import numpy as np\n",
    "import pandas as pd\n",
    "import seaborn as sns\n",
    "import tensorflow as tf\n",
    "from dotenv import load_dotenv\n",
    "from tensorflow.keras import Model\n",
    "\n",
    "os.environ['TF_CPP_MIN_LOG_LEVEL'] = '3'\n",
    "sns.set_theme(style=\"whitegrid\")\n",
    "sns.set_context(\"paper\", font_scale=1.5)\n",
    "sns.set_palette(\"deep\")"
   ]
  },
  {
   "attachments": {},
   "cell_type": "markdown",
   "metadata": {},
   "source": [
    "## Loading the Environmental Variables"
   ]
  },
  {
   "cell_type": "code",
   "execution_count": 62,
   "metadata": {},
   "outputs": [
    {
     "data": {
      "text/plain": [
       "True"
      ]
     },
     "execution_count": 62,
     "metadata": {},
     "output_type": "execute_result"
    }
   ],
   "source": [
    "load_dotenv()"
   ]
  },
  {
   "attachments": {},
   "cell_type": "markdown",
   "metadata": {},
   "source": [
    "## Project Configuration"
   ]
  },
  {
   "cell_type": "code",
   "execution_count": 63,
   "metadata": {},
   "outputs": [],
   "source": [
    "config = {\n",
    "    'test_batch_size': 1,\n",
    "    'img_size': 240,\n",
    "    'depth': 155,\n",
    "    'n_classes': 2,\n",
    "    'fold': 4,\n",
    "}"
   ]
  },
  {
   "attachments": {},
   "cell_type": "markdown",
   "metadata": {},
   "source": [
    "# Dataset\n",
    "\n",
    "BraTS2020 is a medical imaging challenge. The goal is to segment the tumor from the brain MRI scans. The dataset is available on [Kaggle](https://www.kaggle.com/datasets/awsaf49/brats2020-training-data).\n",
    "\n",
    "All BraTS multimodal scans are available as NIfTI files (.nii.gz) and describe:\n",
    "\n",
    "- native (**T1**),\n",
    "- post-contrast T1-weighted (**T1Gd**),\n",
    "- T2-weighted (**T2**),\n",
    "- T2 Fluid Attenuated Inversion Recovery (**T2-FLAIR**)\n",
    "\n",
    "volumes, and were acquired with different clinical protocols and various scanners from multiple (n=19) institutions.\n",
    "\n",
    "All the imaging datasets have been segmented manually, by one to four raters, following the same annotation protocol, and their annotations were approved by experienced neuro-radiologists. Annotations comprise:\n",
    "\n",
    "- the necrotic and non-enhancing tumor core (**NCR/NET — label 1**),\n",
    "- the peritumoral edema (**ED — label 2**),\n",
    "- the GD-enhancing tumor (**ET — label 4**),\n",
    " \n",
    "as described both in the [BraTS 2012-2013 TMI paper](https://ieeexplore.ieee.org/document/6975210) and in the [latest BraTS summarizing paper](https://arxiv.org/abs/1811.02629). The provided data are distributed after their pre-processing, i.e., co-registered to the same anatomical template, interpolated to the same resolution ($1 {mm}^3$) and skull-stripped."
   ]
  },
  {
   "attachments": {},
   "cell_type": "markdown",
   "metadata": {},
   "source": [
    "## Class Distribution"
   ]
  },
  {
   "cell_type": "code",
   "execution_count": 64,
   "metadata": {},
   "outputs": [
    {
     "name": "stdout",
     "output_type": "stream",
     "text": [
      "label\n",
      "1    575\n",
      "0    163\n",
      "Name: count, dtype: int64\n"
     ]
    }
   ],
   "source": [
    "BASE_PATH = '.'\n",
    "MODEL = '3D_CNN'\n",
    "DATA_TYPES = ['flair', 't1', 't1ce', 't2', 'seg']\n",
    "CLASS_NAMES = ['normal', 'tumor']\n",
    "df = pd.read_csv(f'{BASE_PATH}/metadata.csv')\n",
    "print(df['label'].value_counts())"
   ]
  },
  {
   "cell_type": "code",
   "execution_count": 65,
   "metadata": {},
   "outputs": [
    {
     "data": {
      "text/html": [
       "<div>\n",
       "<style scoped>\n",
       "    .dataframe tbody tr th:only-of-type {\n",
       "        vertical-align: middle;\n",
       "    }\n",
       "\n",
       "    .dataframe tbody tr th {\n",
       "        vertical-align: top;\n",
       "    }\n",
       "\n",
       "    .dataframe thead th {\n",
       "        text-align: right;\n",
       "    }\n",
       "</style>\n",
       "<table border=\"1\" class=\"dataframe\">\n",
       "  <thead>\n",
       "    <tr style=\"text-align: right;\">\n",
       "      <th></th>\n",
       "      <th>volume_id</th>\n",
       "      <th>path</th>\n",
       "      <th>label</th>\n",
       "      <th>half</th>\n",
       "      <th>fold</th>\n",
       "    </tr>\n",
       "  </thead>\n",
       "  <tbody>\n",
       "    <tr>\n",
       "      <th>0</th>\n",
       "      <td>1</td>\n",
       "      <td>data/BraTS20_Training_001/left</td>\n",
       "      <td>1</td>\n",
       "      <td>left</td>\n",
       "      <td>3</td>\n",
       "    </tr>\n",
       "    <tr>\n",
       "      <th>1</th>\n",
       "      <td>1</td>\n",
       "      <td>data/BraTS20_Training_001/right</td>\n",
       "      <td>1</td>\n",
       "      <td>right</td>\n",
       "      <td>1</td>\n",
       "    </tr>\n",
       "    <tr>\n",
       "      <th>2</th>\n",
       "      <td>2</td>\n",
       "      <td>data/BraTS20_Training_002/left</td>\n",
       "      <td>0</td>\n",
       "      <td>left</td>\n",
       "      <td>2</td>\n",
       "    </tr>\n",
       "    <tr>\n",
       "      <th>3</th>\n",
       "      <td>2</td>\n",
       "      <td>data/BraTS20_Training_002/right</td>\n",
       "      <td>1</td>\n",
       "      <td>right</td>\n",
       "      <td>0</td>\n",
       "    </tr>\n",
       "    <tr>\n",
       "      <th>4</th>\n",
       "      <td>3</td>\n",
       "      <td>data/BraTS20_Training_003/left</td>\n",
       "      <td>1</td>\n",
       "      <td>left</td>\n",
       "      <td>3</td>\n",
       "    </tr>\n",
       "  </tbody>\n",
       "</table>\n",
       "</div>"
      ],
      "text/plain": [
       "   volume_id                             path  label   half  fold\n",
       "0          1   data/BraTS20_Training_001/left      1   left     3\n",
       "1          1  data/BraTS20_Training_001/right      1  right     1\n",
       "2          2   data/BraTS20_Training_002/left      0   left     2\n",
       "3          2  data/BraTS20_Training_002/right      1  right     0\n",
       "4          3   data/BraTS20_Training_003/left      1   left     3"
      ]
     },
     "execution_count": 65,
     "metadata": {},
     "output_type": "execute_result"
    }
   ],
   "source": [
    "df.head()"
   ]
  },
  {
   "attachments": {},
   "cell_type": "markdown",
   "metadata": {},
   "source": [
    "## Building the Test Set"
   ]
  },
  {
   "cell_type": "code",
   "execution_count": 66,
   "metadata": {},
   "outputs": [
    {
     "name": "stdout",
     "output_type": "stream",
     "text": [
      "Number of samples:\n",
      "train: 590 (80% of the dataset)\n",
      "test: 148 (20% of the dataset)\n"
     ]
    }
   ],
   "source": [
    "labels = np.array(df['label'])\n",
    "paths = np.array(df['path'])\n",
    "train_indices = df[df['fold'] != config['fold']].index.values.tolist()\n",
    "test_indices = df[df['fold'] == config['fold']].index.values.tolist()\n",
    "assert set(train_indices).isdisjoint(test_indices)\n",
    "\n",
    "print(\n",
    "    'Number of samples:\\n'\n",
    "    f'train: {len(train_indices)} ({round(float(len(train_indices)) / float(len(labels)) * 100.0)}% of the dataset)\\n'\n",
    "    f'test: {len(test_indices)} ({round(float(len(test_indices)) / float(len(labels)) * 100.0)}% of the dataset)'\n",
    ")"
   ]
  },
  {
   "attachments": {},
   "cell_type": "markdown",
   "metadata": {},
   "source": [
    "## Data Generator"
   ]
  },
  {
   "cell_type": "code",
   "execution_count": 67,
   "metadata": {},
   "outputs": [],
   "source": [
    "class DataGenerator(tf.keras.utils.Sequence):\n",
    "    'Generates data for Keras'\n",
    "\n",
    "    def __init__(self, indices, paths, labels, batch_size=4, dim=(240, 120, 155),\n",
    "                 n_classes=2, shuffle=True, transform=None):\n",
    "        'Initialization'\n",
    "        self.dim = dim\n",
    "        self.batch_size = batch_size\n",
    "        self.paths = paths\n",
    "        self.labels = labels\n",
    "        self.indices = indices\n",
    "        self.n_classes = n_classes\n",
    "        self.shuffle = shuffle\n",
    "        self.transform = transform\n",
    "        self.on_epoch_end()\n",
    "\n",
    "    def __len__(self):\n",
    "        'Denotes the number of batches per epoch'\n",
    "        return int(np.floor(len(self.indices) / self.batch_size))\n",
    "\n",
    "    def __getitem__(self, index):\n",
    "        'Generate one batch of data'\n",
    "        # Generate indexes of the batch\n",
    "        indexes = self.indexes[index*self.batch_size:(index+1)*self.batch_size]\n",
    "        # Find list of IDs\n",
    "        indices_temp = [self.indices[k] for k in indexes]\n",
    "\n",
    "        # Generate data\n",
    "        X, y = self.__data_generation(indices_temp)\n",
    "\n",
    "        return X, y\n",
    "\n",
    "    def on_epoch_end(self):\n",
    "        'Updates indexes after each epoch'\n",
    "        self.indexes = np.arange(len(self.indices))\n",
    "        if self.shuffle:\n",
    "            np.random.shuffle(self.indexes)\n",
    "\n",
    "    def __data_generation(self, indices_temp):\n",
    "        'Generates data containing batch_size samples'\n",
    "        # Initialization\n",
    "        X = np.empty((self.batch_size, *self.dim, len(DATA_TYPES[:-1])))\n",
    "        y = np.empty((self.batch_size), dtype=int)\n",
    "\n",
    "        # Generate data\n",
    "        for i, ID in enumerate(indices_temp):\n",
    "            # Store sample\n",
    "            vol_path = [\n",
    "                path for path in glob(f'{BASE_PATH}/{self.paths[ID]}/*.npz') if not 'seg' in path\n",
    "            ][0]\n",
    "            volume = np.load(vol_path)['data']\n",
    "            volume = (volume.astype('float32') / 255.0).astype('float32')\n",
    "\n",
    "            if self.transform is not None:\n",
    "                volume = self.transform(**{'image': volume})['image']\n",
    "            X[i,] = volume\n",
    "\n",
    "            # # Store class\n",
    "            y[i] = self.labels[ID]\n",
    "\n",
    "        return X, tf.keras.utils.to_categorical(y, num_classes=self.n_classes)"
   ]
  },
  {
   "cell_type": "code",
   "execution_count": 68,
   "metadata": {},
   "outputs": [],
   "source": [
    "test_generator = DataGenerator(\n",
    "    test_indices,\n",
    "    paths,\n",
    "    labels,\n",
    "    batch_size=config['test_batch_size'],\n",
    "    dim=(config['img_size'], config['img_size'] // 2, config['depth']),\n",
    "    shuffle=False,\n",
    ")"
   ]
  },
  {
   "attachments": {},
   "cell_type": "markdown",
   "metadata": {},
   "source": [
    "# Model Performance Analysis"
   ]
  },
  {
   "attachments": {},
   "cell_type": "markdown",
   "metadata": {},
   "source": [
    "## Loading the Model"
   ]
  },
  {
   "cell_type": "code",
   "execution_count": 69,
   "metadata": {},
   "outputs": [],
   "source": [
    "model = tf.keras.models.load_model(\n",
    "    f'{MODEL}/fold{config[\"fold\"]}/best{config[\"fold\"]}.h5'\n",
    ")"
   ]
  },
  {
   "attachments": {},
   "cell_type": "markdown",
   "metadata": {},
   "source": [
    "## Performance Evaluation"
   ]
  },
  {
   "cell_type": "code",
   "execution_count": 70,
   "metadata": {},
   "outputs": [
    {
     "name": "stderr",
     "output_type": "stream",
     "text": [
      "2023-05-12 13:51:51.879844: I tensorflow/core/common_runtime/executor.cc:1197] [/device:CPU:0] (DEBUG INFO) Executor start aborting (this does not indicate an error and you can ignore this message): INVALID_ARGUMENT: You must feed a value for placeholder tensor 'Placeholder/_0' with dtype int32\n",
      "\t [[{{node Placeholder/_0}}]]\n"
     ]
    },
    {
     "name": "stdout",
     "output_type": "stream",
     "text": [
      "148/148 [==============================] - 26s 172ms/step\n",
      "Accuracy: 74.32%\n"
     ]
    }
   ],
   "source": [
    "y_pred = [np.argmax(x) for x in model.predict(\n",
    "    test_generator, batch_size=config['test_batch_size'])]\n",
    "y_test = [labels[idx] for idx in test_indices]\n",
    "\n",
    "correctly_classified = np.array(y_pred) == np.array(y_test)\n",
    "print(\n",
    "    f'Accuracy: {(np.sum(correctly_classified) / len(correctly_classified)) * 100.0:.2f}%')"
   ]
  },
  {
   "attachments": {},
   "cell_type": "markdown",
   "metadata": {},
   "source": [
    "## Examining Tumor Percentage per Volume"
   ]
  },
  {
   "cell_type": "code",
   "execution_count": 71,
   "metadata": {},
   "outputs": [],
   "source": [
    "percentages = []\n",
    "for idx in test_indices:\n",
    "    seg_path = [\n",
    "        path for path in glob(f'{BASE_PATH}/{paths[idx]}/*.npz') if 'seg' in path\n",
    "    ][0]\n",
    "    seg = np.load(seg_path)['data']\n",
    "    percentages.append((np.sum(seg) / np.prod(seg.shape)) * 100.0)\n",
    "\n",
    "percentages = np.array(percentages)"
   ]
  },
  {
   "cell_type": "code",
   "execution_count": 72,
   "metadata": {},
   "outputs": [],
   "source": [
    "# save percentages as npy\n",
    "np.save(f'percentages{config[\"fold\"]}.npy', percentages)\n",
    "# save correctly_classified as npy\n",
    "np.save(f'correctly_classified{config[\"fold\"]}.npy', correctly_classified)"
   ]
  },
  {
   "attachments": {},
   "cell_type": "markdown",
   "metadata": {},
   "source": [
    "## Analyzing the Relationship Between Tumor Percentage per Volume and Model Performance"
   ]
  },
  {
   "cell_type": "code",
   "execution_count": 88,
   "metadata": {},
   "outputs": [],
   "source": [
    "# now we can load them all, and plot them\n",
    "percentages = None\n",
    "correctly_classified = None\n",
    "for fold in range(5):\n",
    "    if percentages is None:\n",
    "        percentages = np.load(f'percentages{fold}.npy')\n",
    "        correctly_classified = np.load(f'correctly_classified{fold}.npy')\n",
    "    else:\n",
    "        percentages = np.concatenate((percentages, np.load(f'percentages{fold}.npy')))\n",
    "        correctly_classified = np.concatenate((correctly_classified, np.load(f'correctly_classified{fold}.npy')))"
   ]
  },
  {
   "cell_type": "code",
   "execution_count": 89,
   "metadata": {},
   "outputs": [
    {
     "data": {
      "text/plain": [
       "((738,), (738,))"
      ]
     },
     "execution_count": 89,
     "metadata": {},
     "output_type": "execute_result"
    }
   ],
   "source": [
    "percentages.shape, correctly_classified.shape"
   ]
  },
  {
   "cell_type": "code",
   "execution_count": null,
   "metadata": {},
   "outputs": [],
   "source": [
    "# save percentages as npy\n",
    "np.save(f'percentages.npy', percentages)\n",
    "# save correctly_classified as npy\n",
    "np.save(f'correctly_classified.npy', correctly_classified)"
   ]
  },
  {
   "cell_type": "code",
   "execution_count": 91,
   "metadata": {},
   "outputs": [
    {
     "data": {
      "image/png": "[encoded data removed]",
      "text/plain": [
       "<Figure size 1000x500 with 1 Axes>"
      ]
     },
     "metadata": {},
     "output_type": "display_data"
    }
   ],
   "source": [
    "fig, ax = plt.subplots(figsize=(10, 5))\n",
    "# makse the bins of the same size\n",
    "bins = np.linspace(0, np.max(percentages[correctly_classified]), 20)\n",
    "# plt.grid(False)\n",
    "# plt.axis('off')\n",
    "# plt.tight_layout()\n",
    "# plt.xaxis.label.set_visible(False)\n",
    "# hide axis title\n",
    "# ax.get_xaxis().set_visible(False)\n",
    "ax.get_yaxis().set_label('')\n",
    "\n",
    "\n",
    "# h1 = sns.histplot(\n",
    "#     percentages[correctly_classified],\n",
    "#     bins=bins,\n",
    "#     color=sns.color_palette()[2],\n",
    "#     label='Correctly classified',\n",
    "#     ax=ax,\n",
    "# )\n",
    "# set font to courier new\n",
    "# plt.rcParams[\"font.family\"] = \"Courier\"\n",
    "h1 = sns.histplot(\n",
    "    percentages[~np.array(correctly_classified)],\n",
    "    bins=bins,\n",
    "    color=sns.color_palette()[3],\n",
    "    label='Incorrectly classified',\n",
    "    ax=ax,\n",
    ")\n",
    "h1.set(ylabel=None)\n",
    "# ax.set_xlabel('Tumor percentage')\n",
    "# ax.set_ylabel('Number of samples')\n",
    "# ax.legend()\n",
    "# plt.title('Influence of tumor percentage on classification accuracy')\n",
    "plt.tight_layout()"
   ]
  },
  {
   "attachments": {},
   "cell_type": "markdown",
   "metadata": {},
   "source": [
    "## Removing Samples with the Lowest Tumor Percentage per Volume"
   ]
  },
  {
   "cell_type": "code",
   "execution_count": 74,
   "metadata": {},
   "outputs": [],
   "source": [
    "# remove the test indices where the tumor percentage is in the lowest 10%\n",
    "# percentile = 10\n",
    "# correctly_classified = correctly_classified[percentages > np.percentile(\n",
    "#     percentages, percentile)]"
   ]
  },
  {
   "cell_type": "code",
   "execution_count": 75,
   "metadata": {},
   "outputs": [],
   "source": [
    "# accuracy = np.sum(correctly_classified) / len(correctly_classified)\n",
    "# print(f'Accuracy: {accuracy * 100.0:.2f}%')"
   ]
  }
 ],
 "metadata": {
  "kernelspec": {
   "display_name": ".venv",
   "language": "python",
   "name": "python3"
  },
  "language_info": {
   "codemirror_mode": {
    "name": "ipython",
    "version": 3
   },
   "file_extension": ".py",
   "mimetype": "text/x-python",
   "name": "python",
   "nbconvert_exporter": "python",
   "pygments_lexer": "ipython3",
   "version": "3.10.6"
  },
  "orig_nbformat": 4
 },
 "nbformat": 4,
 "nbformat_minor": 2
}
